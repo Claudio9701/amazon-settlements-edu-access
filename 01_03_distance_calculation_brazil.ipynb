{
 "cells": [
  {
   "cell_type": "code",
   "execution_count": null,
   "metadata": {},
   "outputs": [],
   "source": [
    "import matplotlib.pyplot as plt\n",
    "import pandas as pd\n",
    "import geopandas as gpd\n",
    "import contextily as ctx\n",
    "import urbanpy as up\n",
    "from tqdm.notebook import tqdm"
   ]
  },
  {
   "cell_type": "code",
   "execution_count": null,
   "metadata": {},
   "outputs": [],
   "source": [
    "tqdm.pandas()"
   ]
  },
  {
   "cell_type": "code",
   "execution_count": null,
   "metadata": {},
   "outputs": [],
   "source": [
    "gdf_celdas = gpd.read_parquet(\"outputs/celdas_country_bra_02_06_2025.parquet\")\n",
    "print(f\"{gdf_celdas.shape[0]} Cells loaded\")"
   ]
  },
  {
   "cell_type": "code",
   "execution_count": null,
   "metadata": {},
   "outputs": [],
   "source": [
    "gdf_schools = gpd.read_parquet(\n",
    "    \"outputs/amazon_schools.parquet\",\n",
    ")\n",
    "print(f\"{gdf_schools.shape[0]} Cells loaded\")"
   ]
  },
  {
   "cell_type": "code",
   "execution_count": null,
   "metadata": {},
   "outputs": [],
   "source": [
    "gdf_schools.loc[:, \"lat\"] = gdf_schools[\"geometry\"].y\n",
    "gdf_schools.loc[:, \"lon\"] = gdf_schools[\"geometry\"].x"
   ]
  },
  {
   "cell_type": "code",
   "execution_count": null,
   "metadata": {},
   "outputs": [],
   "source": [
    "gdf_celdas.head()"
   ]
  },
  {
   "cell_type": "code",
   "execution_count": null,
   "metadata": {},
   "outputs": [],
   "source": [
    "gdf_celdas[\"code\"].value_counts()"
   ]
  },
  {
   "cell_type": "code",
   "execution_count": null,
   "metadata": {},
   "outputs": [],
   "source": [
    "gdf_celdas[\"code\"].isna().sum()"
   ]
  },
  {
   "cell_type": "code",
   "execution_count": null,
   "metadata": {},
   "outputs": [],
   "source": [
    "gdf_schools[\"country_code\"].value_counts()"
   ]
  },
  {
   "cell_type": "code",
   "execution_count": null,
   "metadata": {},
   "outputs": [],
   "source": [
    "gdf_schools_bra = gdf_schools[gdf_schools[\"country_code\"] == \"BRA\"]"
   ]
  },
  {
   "cell_type": "code",
   "execution_count": null,
   "metadata": {},
   "outputs": [],
   "source": [
    "gdf_schools_bra.shape"
   ]
  },
  {
   "cell_type": "code",
   "execution_count": null,
   "metadata": {},
   "outputs": [],
   "source": [
    "assert gdf_schools.crs.to_string() == gdf_celdas.crs.to_string(), \"CRS do not match\""
   ]
  },
  {
   "cell_type": "code",
   "execution_count": null,
   "metadata": {},
   "outputs": [],
   "source": [
    "brazil_subregions_polys = gpd.read_file(\n",
    "    \"/Users/claudio/Downloads/regions_brazil.geojson\"\n",
    ")\n",
    "brazil_subregions_polys"
   ]
  },
  {
   "cell_type": "code",
   "execution_count": null,
   "metadata": {},
   "outputs": [],
   "source": [
    "brazil_subregions_polys.crs.to_string()"
   ]
  },
  {
   "cell_type": "code",
   "execution_count": null,
   "metadata": {},
   "outputs": [],
   "source": [
    "# Check the boundaries with a plot\n",
    "fig, ax = plt.subplots(figsize=(10, 10))\n",
    "\n",
    "brazil_subregions_polys.plot(\"name\", cmap=\"Set3\", legend=True, ax=ax, alpha=0.5)\n",
    "\n",
    "ctx.add_basemap(\n",
    "    ax, source=ctx.providers.Esri.WorldImagery, crs=brazil_subregions_polys.crs\n",
    ")\n",
    "\n",
    "ax.set_axis_off()\n",
    "\n",
    "ax.set_title(\"Brazil Subregions\")\n",
    "\n",
    "plt.show()"
   ]
  },
  {
   "cell_type": "code",
   "execution_count": null,
   "metadata": {},
   "outputs": [],
   "source": [
    "brazil_subregions_polys.shape"
   ]
  },
  {
   "cell_type": "code",
   "execution_count": null,
   "metadata": {},
   "outputs": [],
   "source": [
    "gdf_schools_bra_subregions = (\n",
    "    gdf_schools_bra.sjoin(\n",
    "        brazil_subregions_polys,\n",
    "        how=\"left\",\n",
    "        predicate=\"intersects\",\n",
    "    )\n",
    "    .drop(columns=[\"index_right\"])\n",
    "    .reset_index()\n",
    "    .drop_duplicates(subset=\"index\", keep=\"last\")\n",
    "    .rename(columns={\"name\": \"subregion\"})\n",
    ")"
   ]
  },
  {
   "cell_type": "code",
   "execution_count": null,
   "metadata": {},
   "outputs": [],
   "source": [
    "gdf_schools_bra.shape[0], gdf_schools_bra_subregions.shape[0]"
   ]
  },
  {
   "cell_type": "code",
   "execution_count": null,
   "metadata": {},
   "outputs": [],
   "source": [
    "print(\n",
    "    \"Schools by subregion\\n\",\n",
    "    gdf_schools_bra_subregions[\"subregion\"].value_counts().sort_index(),\n",
    ")"
   ]
  },
  {
   "cell_type": "code",
   "execution_count": null,
   "metadata": {},
   "outputs": [],
   "source": [
    "gdf_celdas_subregions = (\n",
    "    gdf_celdas.sjoin(\n",
    "        brazil_subregions_polys,\n",
    "        how=\"left\",\n",
    "        predicate=\"intersects\",\n",
    "    )\n",
    "    .reset_index()\n",
    "    .drop_duplicates(subset=\"index\", keep=\"last\")\n",
    "    .drop(columns=[\"index_right\"])\n",
    "    .rename(columns={\"name\": \"subregion\"})\n",
    ")"
   ]
  },
  {
   "cell_type": "code",
   "execution_count": null,
   "metadata": {},
   "outputs": [],
   "source": [
    "gdf_celdas.shape[0], gdf_celdas_subregions.shape[0]"
   ]
  },
  {
   "cell_type": "code",
   "execution_count": null,
   "metadata": {},
   "outputs": [],
   "source": [
    "print(\n",
    "    \"Cells by subregion\\n\",\n",
    "    gdf_celdas_subregions[\"subregion\"].value_counts().sort_index(),\n",
    ")"
   ]
  },
  {
   "cell_type": "code",
   "execution_count": null,
   "metadata": {},
   "outputs": [],
   "source": [
    "gdf_celdas_subregions[\"subregion\"].isna().sum()"
   ]
  },
  {
   "cell_type": "code",
   "execution_count": null,
   "metadata": {},
   "outputs": [],
   "source": [
    "assert brazil_subregions_polys.crs.to_string() == gdf_celdas_subregions.crs.to_string()"
   ]
  },
  {
   "cell_type": "code",
   "execution_count": null,
   "metadata": {},
   "outputs": [],
   "source": [
    "gdf_schools_bra_norte = gdf_schools_bra_subregions[\n",
    "    gdf_schools_bra_subregions[\"subregion\"] == \"Norte\"\n",
    "].copy()"
   ]
  },
  {
   "cell_type": "code",
   "execution_count": null,
   "metadata": {},
   "outputs": [],
   "source": [
    "gdf_celdas_bra_norte = gdf_celdas_subregions[\n",
    "    gdf_celdas_subregions[\"subregion\"] == \"Norte\"\n",
    "].copy()"
   ]
  },
  {
   "cell_type": "code",
   "execution_count": null,
   "metadata": {},
   "outputs": [],
   "source": [
    "gdf_schools_bra_norte.columns"
   ]
  },
  {
   "cell_type": "code",
   "execution_count": null,
   "metadata": {},
   "outputs": [],
   "source": [
    "# 'nivel_primaria', 'nivel_media', 'nivel_secundaria',\n",
    "gdf_primary_schools_bra_norte = gdf_schools_bra_norte[\n",
    "    gdf_schools_bra_norte[\"nivel_primaria\"] == 1\n",
    "]\n",
    "gdf_middle_schools_bra_norte = gdf_schools_bra_norte[\n",
    "    gdf_schools_bra_norte[\"nivel_media\"] == 1\n",
    "]\n",
    "gdf_secondary_schools_bra_norte = gdf_schools_bra_norte[\n",
    "    gdf_schools_bra_norte[\"nivel_secundaria\"] == 1\n",
    "]"
   ]
  },
  {
   "cell_type": "code",
   "execution_count": null,
   "metadata": {},
   "outputs": [],
   "source": [
    "print(\"total # of schools in bra norte\", gdf_schools_bra_norte.shape[0])\n",
    "print(\"primary:\", gdf_primary_schools_bra_norte.shape[0])\n",
    "print(\"middle:\", gdf_middle_schools_bra_norte.shape[0])\n",
    "print(\"secondary:\", gdf_secondary_schools_bra_norte.shape[0])\n",
    "print(\n",
    "    \"add primary, middle, and secondary:\",\n",
    "    gdf_primary_schools_bra_norte.shape[0]\n",
    "    + gdf_middle_schools_bra_norte.shape[0]\n",
    "    + gdf_secondary_schools_bra_norte.shape[0],\n",
    ")"
   ]
  },
  {
   "cell_type": "code",
   "execution_count": null,
   "metadata": {},
   "outputs": [],
   "source": [
    "# start server\n",
    "up.routing.start_osrm_server(\"south-america/brazil/norte\", \"foot\")"
   ]
  },
  {
   "cell_type": "code",
   "execution_count": null,
   "metadata": {},
   "outputs": [],
   "source": [
    "gdf_celdas_bra_norte_access_primary = up.accessibility.travel_times(\n",
    "    gdf_celdas_bra_norte, gdf_primary_schools_bra_norte, \"primary_schools\"\n",
    ")"
   ]
  },
  {
   "cell_type": "code",
   "execution_count": null,
   "metadata": {},
   "outputs": [],
   "source": [
    "# Obtain the school unique_id and lat_lon\n",
    "gdf_celdas_bra_norte_access_primary = pd.merge(\n",
    "    gdf_celdas_bra_norte_access_primary,\n",
    "    gdf_primary_schools_bra_norte.reset_index()[[\"id_edificio\", \"lat\", \"lon\"]],\n",
    "    how=\"left\",\n",
    "    left_on=\"nearest_primary_schools_ix\",\n",
    "    right_index=True,\n",
    "    suffixes=(\"\", \"_primary_school\"),\n",
    ")"
   ]
  },
  {
   "cell_type": "code",
   "execution_count": null,
   "metadata": {},
   "outputs": [],
   "source": [
    "gdf_celdas_bra_norte_access_middle = up.accessibility.travel_times(\n",
    "    gdf_celdas_bra_norte_access_primary, gdf_middle_schools_bra_norte, \"middle_schools\"\n",
    ")"
   ]
  },
  {
   "cell_type": "code",
   "execution_count": null,
   "metadata": {},
   "outputs": [],
   "source": [
    "# Obtain the school unique_id and lat_lon\n",
    "gdf_celdas_bra_norte_access_middle = pd.merge(\n",
    "    gdf_celdas_bra_norte_access_middle,\n",
    "    gdf_middle_schools_bra_norte.reset_index()[[\"id_edificio\", \"lat\", \"lon\"]],\n",
    "    how=\"left\",\n",
    "    left_on=\"nearest_middle_schools_ix\",\n",
    "    right_index=True,\n",
    "    suffixes=(\"\", \"_middle_school\"),\n",
    ")"
   ]
  },
  {
   "cell_type": "code",
   "execution_count": null,
   "metadata": {},
   "outputs": [],
   "source": [
    "gdf_celdas_bra_norte_access_total = up.accessibility.travel_times(\n",
    "    gdf_celdas_bra_norte_access_middle,\n",
    "    gdf_secondary_schools_bra_norte,\n",
    "    \"secondary_schools\",\n",
    ")"
   ]
  },
  {
   "cell_type": "code",
   "execution_count": null,
   "metadata": {},
   "outputs": [],
   "source": [
    "# Obtain the secondary school unique_id and lat_lon\n",
    "gdf_celdas_bra_norte_access_total = pd.merge(\n",
    "    gdf_celdas_bra_norte_access_total,\n",
    "    gdf_secondary_schools_bra_norte.reset_index()[[\"id_edificio\", \"lat\", \"lon\"]],\n",
    "    how=\"left\",\n",
    "    left_on=\"nearest_secondary_schools_ix\",\n",
    "    right_index=True,\n",
    "    suffixes=(\"\", \"_secondary_school\"),\n",
    ")"
   ]
  },
  {
   "cell_type": "code",
   "execution_count": null,
   "metadata": {},
   "outputs": [],
   "source": [
    "# Save the results\n",
    "gdf_celdas_bra_norte_access_total.to_parquet(\n",
    "    \"outputs/celdas_bra_norte_access_v3.parquet\"\n",
    ")"
   ]
  },
  {
   "cell_type": "code",
   "execution_count": null,
   "metadata": {},
   "outputs": [],
   "source": [
    "up.routing.stop_osrm_server(\"south-america/brazil/norte\", \"foot\")"
   ]
  },
  {
   "cell_type": "markdown",
   "metadata": {},
   "source": [
    "### Nordeste\n"
   ]
  },
  {
   "cell_type": "markdown",
   "metadata": {},
   "source": [
    "Select the data for the subregion\n"
   ]
  },
  {
   "cell_type": "code",
   "execution_count": null,
   "metadata": {},
   "outputs": [],
   "source": [
    "gdf_celdas_bra_nordeste = gdf_celdas_subregions[\n",
    "    gdf_celdas_subregions[\"subregion\"] == \"Nordeste\"\n",
    "].copy()\n",
    "print(\"# of cells in Nordest:\", gdf_celdas_bra_nordeste.shape[0])"
   ]
  },
  {
   "cell_type": "code",
   "execution_count": null,
   "metadata": {},
   "outputs": [],
   "source": [
    "gdf_schools_bra_nordeste = gdf_schools_bra_subregions[\n",
    "    gdf_schools_bra_subregions[\"subregion\"] == \"Nordeste\"\n",
    "].copy()\n",
    "print(\"# of schools in Nordest:\", gdf_schools_bra_nordeste.shape[0])"
   ]
  },
  {
   "cell_type": "code",
   "execution_count": null,
   "metadata": {},
   "outputs": [],
   "source": [
    "gdf_primary_schools_bra_nordeste = gdf_schools_bra_nordeste[\n",
    "    gdf_schools_bra_nordeste[\"nivel_primaria\"] == 1\n",
    "]\n",
    "gdf_middle_schools_bra_nordeste = gdf_schools_bra_nordeste[\n",
    "    gdf_schools_bra_nordeste[\"nivel_media\"] == 1\n",
    "]\n",
    "gdf_secondary_schools_bra_nordeste = gdf_schools_bra_nordeste[\n",
    "    gdf_schools_bra_nordeste[\"nivel_secundaria\"] == 1\n",
    "]"
   ]
  },
  {
   "cell_type": "code",
   "execution_count": null,
   "metadata": {},
   "outputs": [],
   "source": [
    "print(\"total # of schools in bra norte\", gdf_schools_bra_nordeste.shape[0])\n",
    "print(\"primary:\", gdf_primary_schools_bra_nordeste.shape[0])\n",
    "print(\"middle:\", gdf_middle_schools_bra_nordeste.shape[0])\n",
    "print(\"secondary:\", gdf_secondary_schools_bra_nordeste.shape[0])\n",
    "print(\n",
    "    \"add primary, middle, and secondary:\",\n",
    "    gdf_primary_schools_bra_nordeste.shape[0]\n",
    "    + gdf_middle_schools_bra_nordeste.shape[0]\n",
    "    + gdf_secondary_schools_bra_nordeste.shape[0],\n",
    ")"
   ]
  },
  {
   "cell_type": "code",
   "execution_count": null,
   "metadata": {},
   "outputs": [],
   "source": [
    "# start server\n",
    "up.routing.start_osrm_server(\"south-america/brazil/nordeste\", \"foot\")"
   ]
  },
  {
   "cell_type": "code",
   "execution_count": null,
   "metadata": {},
   "outputs": [],
   "source": [
    "gdf_celdas_bra_nordeste_access_primary = up.accessibility.travel_times(\n",
    "    gdf_celdas_bra_nordeste, gdf_primary_schools_bra_nordeste, \"primary_schools\"\n",
    ")"
   ]
  },
  {
   "cell_type": "code",
   "execution_count": null,
   "metadata": {},
   "outputs": [],
   "source": [
    "# Obtain the school unique_id and lat_lon\n",
    "gdf_celdas_bra_nordeste_access_primary = pd.merge(\n",
    "    gdf_celdas_bra_nordeste_access_primary,\n",
    "    gdf_primary_schools_bra_nordeste.reset_index()[[\"id_edificio\", \"lat\", \"lon\"]],\n",
    "    how=\"left\",\n",
    "    left_on=\"nearest_primary_schools_ix\",\n",
    "    right_index=True,\n",
    "    suffixes=(\"\", \"_primary_school\"),\n",
    ")"
   ]
  },
  {
   "cell_type": "code",
   "execution_count": null,
   "metadata": {},
   "outputs": [],
   "source": [
    "gdf_celdas_bra_nordeste_access_middle = up.accessibility.travel_times(\n",
    "    gdf_celdas_bra_nordeste_access_primary,\n",
    "    gdf_middle_schools_bra_nordeste,\n",
    "    \"middle_schools\",\n",
    ")"
   ]
  },
  {
   "cell_type": "code",
   "execution_count": null,
   "metadata": {},
   "outputs": [],
   "source": [
    "# Obtain the school unique_id and lat_lon\n",
    "gdf_celdas_bra_nordeste_access_middle = pd.merge(\n",
    "    gdf_celdas_bra_nordeste_access_middle,\n",
    "    gdf_middle_schools_bra_nordeste.reset_index()[[\"id_edificio\", \"lat\", \"lon\"]],\n",
    "    how=\"left\",\n",
    "    left_on=\"nearest_middle_schools_ix\",\n",
    "    right_index=True,\n",
    "    suffixes=(\"\", \"_middle_school\"),\n",
    ")"
   ]
  },
  {
   "cell_type": "code",
   "execution_count": null,
   "metadata": {},
   "outputs": [],
   "source": [
    "gdf_celdas_bra_nordeste_access_total = up.accessibility.travel_times(\n",
    "    gdf_celdas_bra_nordeste_access_middle,\n",
    "    gdf_secondary_schools_bra_nordeste,\n",
    "    \"secondary_schools\",\n",
    ")"
   ]
  },
  {
   "cell_type": "code",
   "execution_count": null,
   "metadata": {},
   "outputs": [],
   "source": [
    "# Obtain the secondary school unique_id and lat_lon\n",
    "gdf_celdas_bra_nordeste_access_total = pd.merge(\n",
    "    gdf_celdas_bra_nordeste_access_total,\n",
    "    gdf_secondary_schools_bra_nordeste.reset_index()[[\"id_edificio\", \"lat\", \"lon\"]],\n",
    "    how=\"left\",\n",
    "    left_on=\"nearest_secondary_schools_ix\",\n",
    "    right_index=True,\n",
    "    suffixes=(\"\", \"_secondary_school\"),\n",
    ")"
   ]
  },
  {
   "cell_type": "code",
   "execution_count": null,
   "metadata": {},
   "outputs": [],
   "source": [
    "# Save the results\n",
    "gdf_celdas_bra_nordeste_access_total.to_parquet(\n",
    "    \"outputs/celdas_bra_nordeste_access_v3.parquet\"\n",
    ")"
   ]
  },
  {
   "cell_type": "code",
   "execution_count": null,
   "metadata": {},
   "outputs": [],
   "source": [
    "up.routing.stop_osrm_server(\"south-america/brazil/nordeste\", \"foot\")"
   ]
  },
  {
   "cell_type": "markdown",
   "metadata": {},
   "source": [
    "### Centro-Oeste\n"
   ]
  },
  {
   "cell_type": "code",
   "execution_count": null,
   "metadata": {},
   "outputs": [],
   "source": [
    "gdf_celdas_bra_centro_oeste = gdf_celdas_subregions[\n",
    "    gdf_celdas_subregions[\"subregion\"] == \"Centro-oeste\"\n",
    "].copy()\n",
    "print(\"# of cells in Centro-oeste:\", gdf_celdas_bra_centro_oeste.shape[0])"
   ]
  },
  {
   "cell_type": "code",
   "execution_count": null,
   "metadata": {},
   "outputs": [],
   "source": [
    "gdf_schools_bra_centro_oeste = gdf_schools_bra_subregions[\n",
    "    gdf_schools_bra_subregions[\"subregion\"] == \"Centro-oeste\"\n",
    "].copy()\n",
    "print(\"# of schools in Centro-oeste:\", gdf_schools_bra_centro_oeste.shape[0])"
   ]
  },
  {
   "cell_type": "code",
   "execution_count": null,
   "metadata": {},
   "outputs": [],
   "source": [
    "gdf_primary_schools_bra_centro_oeste = gdf_schools_bra_centro_oeste[\n",
    "    gdf_schools_bra_centro_oeste[\"nivel_primaria\"] == 1\n",
    "]\n",
    "gdf_middle_schools_bra_centro_oeste = gdf_schools_bra_centro_oeste[\n",
    "    gdf_schools_bra_centro_oeste[\"nivel_media\"] == 1\n",
    "]\n",
    "gdf_secondary_schools_bra_centro_oeste = gdf_schools_bra_centro_oeste[\n",
    "    gdf_schools_bra_centro_oeste[\"nivel_secundaria\"] == 1\n",
    "]"
   ]
  },
  {
   "cell_type": "code",
   "execution_count": null,
   "metadata": {},
   "outputs": [],
   "source": [
    "print(\"total # of schools in bra norte\", gdf_schools_bra_centro_oeste.shape[0])\n",
    "print(\"primary:\", gdf_primary_schools_bra_centro_oeste.shape[0])\n",
    "print(\"middle:\", gdf_middle_schools_bra_centro_oeste.shape[0])\n",
    "print(\"secondary:\", gdf_secondary_schools_bra_centro_oeste.shape[0])\n",
    "print(\n",
    "    \"add primary and secondary:\",\n",
    "    gdf_primary_schools_bra_centro_oeste.shape[0]\n",
    "    + gdf_middle_schools_bra_centro_oeste.shape[0]\n",
    "    + gdf_secondary_schools_bra_centro_oeste.shape[0],\n",
    ")"
   ]
  },
  {
   "cell_type": "code",
   "execution_count": null,
   "metadata": {},
   "outputs": [],
   "source": [
    "# start server\n",
    "up.routing.start_osrm_server(\"south-america/brazil/centro-oeste\", \"foot\")"
   ]
  },
  {
   "cell_type": "code",
   "execution_count": null,
   "metadata": {},
   "outputs": [],
   "source": [
    "gdf_celdas_bra_centro_oeste_access_primary = up.accessibility.travel_times(\n",
    "    gdf_celdas_bra_centro_oeste, gdf_primary_schools_bra_centro_oeste, \"primary_schools\"\n",
    ")"
   ]
  },
  {
   "cell_type": "code",
   "execution_count": null,
   "metadata": {},
   "outputs": [],
   "source": [
    "# Obtain the school unique_id and lat_lon\n",
    "gdf_celdas_bra_centro_oeste_access_primary = pd.merge(\n",
    "    gdf_celdas_bra_centro_oeste_access_primary,\n",
    "    gdf_primary_schools_bra_centro_oeste.reset_index()[[\"id_edificio\", \"lat\", \"lon\"]],\n",
    "    how=\"left\",\n",
    "    left_on=\"nearest_primary_schools_ix\",\n",
    "    right_index=True,\n",
    "    suffixes=(\"\", \"_primary_school\"),\n",
    ")"
   ]
  },
  {
   "cell_type": "code",
   "execution_count": null,
   "metadata": {},
   "outputs": [],
   "source": [
    "gdf_celdas_bra_centro_oeste_access_middle = up.accessibility.travel_times(\n",
    "    gdf_celdas_bra_centro_oeste_access_primary,\n",
    "    gdf_middle_schools_bra_centro_oeste,\n",
    "    \"middle_schools\",\n",
    ")"
   ]
  },
  {
   "cell_type": "code",
   "execution_count": null,
   "metadata": {},
   "outputs": [],
   "source": [
    "# Obtain the school unique_id and lat_lon\n",
    "gdf_celdas_bra_centro_oeste_access_middle = pd.merge(\n",
    "    gdf_celdas_bra_centro_oeste_access_middle,\n",
    "    gdf_middle_schools_bra_centro_oeste.reset_index()[[\"id_edificio\", \"lat\", \"lon\"]],\n",
    "    how=\"left\",\n",
    "    left_on=\"nearest_middle_schools_ix\",\n",
    "    right_index=True,\n",
    "    suffixes=(\"\", \"_middle_school\"),\n",
    ")"
   ]
  },
  {
   "cell_type": "code",
   "execution_count": null,
   "metadata": {},
   "outputs": [],
   "source": [
    "gdf_celdas_bra_centro_oeste_access_total = up.accessibility.travel_times(\n",
    "    gdf_celdas_bra_centro_oeste_access_middle,\n",
    "    gdf_secondary_schools_bra_centro_oeste,\n",
    "    \"secondary_schools\",\n",
    ")"
   ]
  },
  {
   "cell_type": "code",
   "execution_count": null,
   "metadata": {},
   "outputs": [],
   "source": [
    "# Obtain the secondary school unique_id and lat_lon\n",
    "gdf_celdas_bra_centro_oeste_access_total = pd.merge(\n",
    "    gdf_celdas_bra_centro_oeste_access_total,\n",
    "    gdf_secondary_schools_bra_centro_oeste.reset_index()[[\"id_edificio\", \"lat\", \"lon\"]],\n",
    "    how=\"left\",\n",
    "    left_on=\"nearest_secondary_schools_ix\",\n",
    "    right_index=True,\n",
    "    suffixes=(\"\", \"_secondary_school\"),\n",
    ")"
   ]
  },
  {
   "cell_type": "code",
   "execution_count": null,
   "metadata": {},
   "outputs": [],
   "source": [
    "# Save the results\n",
    "gdf_celdas_bra_centro_oeste_access_total.to_parquet(\n",
    "    \"outputs/celdas_bra_centro_oeste_access_v3.parquet\"\n",
    ")"
   ]
  },
  {
   "cell_type": "code",
   "execution_count": null,
   "metadata": {},
   "outputs": [],
   "source": [
    "up.routing.stop_osrm_server(\"south-america/brazil/centro-oeste\", \"foot\")"
   ]
  },
  {
   "cell_type": "code",
   "execution_count": null,
   "metadata": {},
   "outputs": [],
   "source": [
    "gdf_celdas_bra_centro_oeste_access_total.head()"
   ]
  },
  {
   "cell_type": "code",
   "execution_count": null,
   "metadata": {},
   "outputs": [],
   "source": [
    "# def add_education_level(gdf_celdas, gdf_schools):\n",
    "#     # Perform a merge using the neatest schools index\n",
    "#     gdf_schools[\"school_ix\"] = range(len(gdf_schools))\n",
    "#     gdf_schools.set_index(\"school_ix\", inplace=True)\n",
    "#     gdf_celdas = gdf_celdas.merge(\n",
    "#         gdf_schools[[\"EduNivelPrimaria\", \"EduNivelSecundariaTotal\"]],\n",
    "#         left_on=\"nearest_schools_ix\",\n",
    "#         right_index=True,\n",
    "#         how=\"left\",\n",
    "#     )\n",
    "#     return gdf_celdas"
   ]
  },
  {
   "cell_type": "code",
   "execution_count": null,
   "metadata": {},
   "outputs": [],
   "source": [
    "# # Apply the function for each country\n",
    "# gdf_celdas_bra_norte_access_comp = add_education_level(\n",
    "#     gdf_celdas_bra_norte_access, gdf_schools_bra_norte\n",
    "# )\n",
    "# gdf_celdas_bra_nordeste_access_comp = add_education_level(\n",
    "#     gdf_celdas_bra_nordeste_access, gdf_schools_bra_nordeste\n",
    "# )\n",
    "# gdf_celdas_bra_centro_oeste_access_comp = add_education_level(\n",
    "#     gdf_celdas_bra_centro_oeste_access, gdf_schools_bra_centro_oeste\n",
    "# )"
   ]
  },
  {
   "cell_type": "code",
   "execution_count": null,
   "metadata": {},
   "outputs": [],
   "source": [
    "# Read and concatenate them into a single GeoDataFrame\n",
    "gdf_combined_comp = gpd.GeoDataFrame(\n",
    "    pd.concat(\n",
    "        [\n",
    "            gdf_celdas_bra_norte_access_total,\n",
    "            gdf_celdas_bra_nordeste_access_total,\n",
    "            gdf_celdas_bra_centro_oeste_access_total,\n",
    "        ],\n",
    "        ignore_index=True,\n",
    "    )\n",
    ")\n",
    "\n",
    "# Display the combined GeoDataFrame\n",
    "gdf_combined_comp.head()"
   ]
  },
  {
   "cell_type": "code",
   "execution_count": null,
   "metadata": {},
   "outputs": [],
   "source": [
    "# gdf_combined_comp[\"nivel_educativo\"] = gdf_combined_comp.apply(\n",
    "#     lambda x: (\n",
    "#         \"Primaria\"\n",
    "#         if x[\"EduNivelPrimaria\"] == 1\n",
    "#         else \"Secundaria\" if x[\"EduNivelSecundariaTotal\"] == 1 else \"Ninguno\"\n",
    "#     ),\n",
    "#     axis=1,\n",
    "# )"
   ]
  },
  {
   "cell_type": "code",
   "execution_count": null,
   "metadata": {},
   "outputs": [],
   "source": [
    "# gdf_combined_comp[\"nivel_educativo\"].value_counts()"
   ]
  },
  {
   "cell_type": "code",
   "execution_count": null,
   "metadata": {},
   "outputs": [],
   "source": [
    "# Save the combined GeoDataFrame to a new file\n",
    "gdf_combined_comp.to_parquet(\"outputs/celdas_combined_bra_access_v3.parquet\")"
   ]
  },
  {
   "cell_type": "code",
   "execution_count": null,
   "metadata": {},
   "outputs": [],
   "source": []
  }
 ],
 "metadata": {
  "kernelspec": {
   "display_name": ".venv",
   "language": "python",
   "name": "python3"
  },
  "language_info": {
   "codemirror_mode": {
    "name": "ipython",
    "version": 3
   },
   "file_extension": ".py",
   "mimetype": "text/x-python",
   "name": "python",
   "nbconvert_exporter": "python",
   "pygments_lexer": "ipython3",
   "version": "3.12.10"
  }
 },
 "nbformat": 4,
 "nbformat_minor": 2
}
