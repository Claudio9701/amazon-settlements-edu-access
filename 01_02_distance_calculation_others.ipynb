{
 "cells": [
  {
   "cell_type": "code",
   "execution_count": null,
   "metadata": {},
   "outputs": [],
   "source": [
    "import matplotlib.pyplot as plt\n",
    "import pandas as pd\n",
    "import geopandas as gpd\n",
    "import urbanpy as up\n",
    "from tqdm.notebook import tqdm"
   ]
  },
  {
   "cell_type": "code",
   "execution_count": null,
   "metadata": {},
   "outputs": [],
   "source": [
    "tqdm.pandas()"
   ]
  },
  {
   "cell_type": "code",
   "execution_count": null,
   "metadata": {},
   "outputs": [],
   "source": [
    "gdf_celdas = gpd.read_parquet(\"outputs/celdas_countries_wo_br_02_06_2025.parquet\")\n",
    "print(f\"{gdf_celdas.shape[0]} Cells loaded\")"
   ]
  },
  {
   "cell_type": "code",
   "execution_count": null,
   "metadata": {},
   "outputs": [],
   "source": [
    "gdf_schools = gpd.read_parquet(\"outputs/amazon_schools.parquet\")\n",
    "print(f\"{gdf_schools.shape[0]} Cells loaded\")"
   ]
  },
  {
   "cell_type": "code",
   "execution_count": null,
   "metadata": {},
   "outputs": [],
   "source": [
    "gdf_schools.loc[:, \"lat\"] = gdf_schools[\"geometry\"].y\n",
    "gdf_schools.loc[:, \"lon\"] = gdf_schools[\"geometry\"].x"
   ]
  },
  {
   "cell_type": "code",
   "execution_count": null,
   "metadata": {},
   "outputs": [],
   "source": [
    "gdf_celdas.head()"
   ]
  },
  {
   "cell_type": "code",
   "execution_count": null,
   "metadata": {},
   "outputs": [],
   "source": [
    "gdf_celdas[\"code\"].value_counts()"
   ]
  },
  {
   "cell_type": "code",
   "execution_count": null,
   "metadata": {},
   "outputs": [],
   "source": [
    "gdf_celdas[\"code\"].isna().sum()"
   ]
  },
  {
   "cell_type": "code",
   "execution_count": null,
   "metadata": {},
   "outputs": [],
   "source": [
    "gdf_celdas_peru = gdf_celdas[gdf_celdas[\"code\"] == \"per\"]"
   ]
  },
  {
   "cell_type": "code",
   "execution_count": null,
   "metadata": {},
   "outputs": [],
   "source": [
    "gdf_schools[\"country_code\"].value_counts()"
   ]
  },
  {
   "cell_type": "code",
   "execution_count": null,
   "metadata": {},
   "outputs": [],
   "source": [
    "gdf_schools_peru = gdf_schools[gdf_schools[\"country_code\"] == \"PER\"]"
   ]
  },
  {
   "cell_type": "code",
   "execution_count": null,
   "metadata": {},
   "outputs": [],
   "source": [
    "assert (\n",
    "    gdf_schools_peru.crs.to_string() == gdf_celdas.crs.to_string()\n",
    "), \"CRS do not match\""
   ]
  },
  {
   "cell_type": "code",
   "execution_count": null,
   "metadata": {},
   "outputs": [],
   "source": [
    "gdf_schools_peru.head()"
   ]
  },
  {
   "cell_type": "code",
   "execution_count": null,
   "metadata": {},
   "outputs": [],
   "source": [
    "gdf_primary_schools_peru = gdf_schools_peru[gdf_schools_peru[\"nivel_primaria\"] == 1]\n",
    "gdf_middle_schools_peru = gdf_schools_peru[gdf_schools_peru[\"nivel_media\"] == 1]\n",
    "gdf_secondary_schools_peru = gdf_schools_peru[gdf_schools_peru[\"nivel_secundaria\"] == 1]"
   ]
  },
  {
   "cell_type": "code",
   "execution_count": null,
   "metadata": {},
   "outputs": [],
   "source": [
    "total_schools = gdf_schools_peru.shape[0]\n",
    "print(\"total # of schools in peru\", gdf_schools_peru.shape[0])\n",
    "print(\"primary:\", gdf_primary_schools_peru.shape[0])\n",
    "print(\"middle:\", gdf_middle_schools_peru.shape[0])\n",
    "print(\"secondary:\", gdf_secondary_schools_peru.shape[0])\n",
    "print(\n",
    "    \"add primary, middle, and secondary:\",\n",
    "    gdf_primary_schools_peru.shape[0]\n",
    "    + gdf_middle_schools_peru.shape[0]\n",
    "    + gdf_secondary_schools_peru.shape[0],\n",
    ")"
   ]
  },
  {
   "cell_type": "code",
   "execution_count": null,
   "metadata": {},
   "outputs": [],
   "source": [
    "# start server\n",
    "up.routing.start_osrm_server(\"south-america/peru\", \"foot\")"
   ]
  },
  {
   "cell_type": "code",
   "execution_count": null,
   "metadata": {},
   "outputs": [],
   "source": [
    "gdf_celdas_peru_access_primaria = up.accessibility.travel_times(\n",
    "    gdf_celdas_peru, gdf_primary_schools_peru, \"primary_schools\"\n",
    ")"
   ]
  },
  {
   "cell_type": "code",
   "execution_count": null,
   "metadata": {},
   "outputs": [],
   "source": [
    "gdf_celdas_peru_access_primaria"
   ]
  },
  {
   "cell_type": "code",
   "execution_count": null,
   "metadata": {},
   "outputs": [],
   "source": [
    "gdf_primary_schools_peru.reset_index()"
   ]
  },
  {
   "cell_type": "code",
   "execution_count": null,
   "metadata": {},
   "outputs": [],
   "source": [
    "# Obtain the school unique_id and lat_lon\n",
    "gdf_celdas_peru_access_primaria = pd.merge(\n",
    "    gdf_celdas_peru_access_primaria,\n",
    "    gdf_primary_schools_peru.reset_index()[[\"id_edificio\", \"lat\", \"lon\"]],\n",
    "    how=\"left\",\n",
    "    left_on=\"nearest_primary_schools_ix\",\n",
    "    right_index=True,\n",
    "    suffixes=(\"\", \"_primary_school\"),\n",
    ")"
   ]
  },
  {
   "cell_type": "code",
   "execution_count": null,
   "metadata": {},
   "outputs": [],
   "source": [
    "gdf_celdas_peru_access_middle = up.accessibility.travel_times(\n",
    "    gdf_celdas_peru_access_primaria, gdf_middle_schools_peru, \"middle_schools\"\n",
    ")"
   ]
  },
  {
   "cell_type": "code",
   "execution_count": null,
   "metadata": {},
   "outputs": [],
   "source": [
    "# Obtain the middle school unique_id and lat_lon\n",
    "gdf_celdas_peru_access_middle = pd.merge(\n",
    "    gdf_celdas_peru_access_middle,\n",
    "    gdf_middle_schools_peru.reset_index()[[\"id_edificio\", \"lat\", \"lon\"]],\n",
    "    how=\"left\",\n",
    "    left_on=\"nearest_middle_schools_ix\",\n",
    "    right_index=True,\n",
    "    suffixes=(\"\", \"_middle_school\"),\n",
    ")"
   ]
  },
  {
   "cell_type": "code",
   "execution_count": null,
   "metadata": {},
   "outputs": [],
   "source": [
    "gdf_celdas_peru_access_middle.head()"
   ]
  },
  {
   "cell_type": "code",
   "execution_count": null,
   "metadata": {},
   "outputs": [],
   "source": [
    "gdf_celdas_peru_access_total = up.accessibility.travel_times(\n",
    "    gdf_celdas_peru_access_middle, gdf_secondary_schools_peru, \"secondary_schools\"\n",
    ")"
   ]
  },
  {
   "cell_type": "code",
   "execution_count": null,
   "metadata": {},
   "outputs": [],
   "source": [
    "# Obtain the secondary school unique_id and lat_lon\n",
    "gdf_celdas_peru_access_total = pd.merge(\n",
    "    gdf_celdas_peru_access_total,\n",
    "    gdf_secondary_schools_peru.reset_index()[[\"id_edificio\", \"lat\", \"lon\"]],\n",
    "    how=\"left\",\n",
    "    left_on=\"nearest_secondary_schools_ix\",\n",
    "    right_index=True,\n",
    "    suffixes=(\"\", \"_secondary_school\"),\n",
    ")"
   ]
  },
  {
   "cell_type": "code",
   "execution_count": null,
   "metadata": {},
   "outputs": [],
   "source": [
    "gdf_celdas_peru_access_total.head()"
   ]
  },
  {
   "cell_type": "code",
   "execution_count": null,
   "metadata": {},
   "outputs": [],
   "source": [
    "gdf_celdas_peru_access_total[\"category\"].value_counts(), gdf_celdas_peru_access_total[\n",
    "    \"category\"\n",
    "].isna().sum()"
   ]
  },
  {
   "cell_type": "code",
   "execution_count": null,
   "metadata": {},
   "outputs": [],
   "source": [
    "import seaborn as sns"
   ]
  },
  {
   "cell_type": "code",
   "execution_count": null,
   "metadata": {},
   "outputs": [],
   "source": [
    "# Group by settlement type (smod) and calculate mean durations\n",
    "grouped = (\n",
    "    gdf_celdas_peru_access_total.groupby(\"category\")[\n",
    "        [\"duration_to_nearest_primary_schools\", \"duration_to_nearest_secondary_schools\"]\n",
    "    ]\n",
    "    .mean()\n",
    "    .reset_index()\n",
    ")\n",
    "\n",
    "# Plot\n",
    "grouped_melted = grouped.melt(\n",
    "    id_vars=\"category\", var_name=\"School Type\", value_name=\"Avg Duration (min)\"\n",
    ")\n",
    "sns.barplot(\n",
    "    data=grouped_melted, x=\"category\", y=\"Avg Duration (min)\", hue=\"School Type\"\n",
    ")\n",
    "plt.title(\"Average Travel Duration to Nearest Primary Schools by Settlement Type\")\n",
    "plt.ylabel(\"Minutes\")\n",
    "plt.xlabel(\"Settlement Type\")\n",
    "plt.xticks(rotation=45)\n",
    "plt.tight_layout()\n",
    "plt.show()"
   ]
  },
  {
   "cell_type": "code",
   "execution_count": null,
   "metadata": {},
   "outputs": [],
   "source": [
    "fig, axes = plt.subplots(1, 3, figsize=(15, 6), sharey=True)\n",
    "\n",
    "# Plot for primary schools\n",
    "gdf_celdas_peru_access_total[\n",
    "    \"duration_to_nearest_primary_schools_label\"\n",
    "].value_counts().plot(kind=\"bar\", ax=axes[0])\n",
    "axes[0].set_title(\"Distribution of Access Durations to Primary Schools\")\n",
    "axes[0].set_xlabel(\"Duration Category\")\n",
    "axes[0].set_ylabel(\"Number of Cells\")\n",
    "# axes[0].set_xticklabels(gdf_celdas_peru_access_total['duration_to_nearest_primary_schools_label'].unique().index, rotation=45)\n",
    "\n",
    "# Plot for middle schools\n",
    "gdf_celdas_peru_access_total[\n",
    "    \"duration_to_nearest_middle_schools_label\"\n",
    "].value_counts().plot(kind=\"bar\", ax=axes[1], color=\"green\")\n",
    "axes[1].set_title(\"Distribution of Access Durations to Middle Schools\")\n",
    "axes[1].set_xlabel(\"Duration Category\")\n",
    "\n",
    "# Plot for secondary schools\n",
    "gdf_celdas_peru_access_total[\n",
    "    \"duration_to_nearest_secondary_schools_label\"\n",
    "].value_counts().plot(kind=\"bar\", ax=axes[2], color=\"orange\")\n",
    "axes[2].set_title(\"Distribution of Access Durations to Secondary Schools\")\n",
    "axes[2].set_xlabel(\"Duration Category\")\n",
    "# axes[1].set_xticklabels(secondary_labels.index, rotation=45)\n",
    "\n",
    "axes[0].grid(True)\n",
    "axes[1].grid(True)\n",
    "axes[2].grid(True)\n",
    "\n",
    "plt.tight_layout()\n",
    "plt.show()"
   ]
  },
  {
   "cell_type": "code",
   "execution_count": null,
   "metadata": {},
   "outputs": [],
   "source": [
    "gdf_celdas_peru_access_total.head()"
   ]
  },
  {
   "cell_type": "code",
   "execution_count": null,
   "metadata": {},
   "outputs": [],
   "source": [
    "# Save the results\n",
    "# gdf_celdas_peru_access.to_parquet(\"outputs/celdas_peru_access.parquet\")\n",
    "gdf_celdas_peru_access_total.to_parquet(\"outputs/celdas_peru_access_v3.parquet\")"
   ]
  },
  {
   "cell_type": "code",
   "execution_count": null,
   "metadata": {},
   "outputs": [],
   "source": [
    "up.routing.stop_osrm_server(\"south-america/peru\", \"foot\")"
   ]
  },
  {
   "cell_type": "code",
   "execution_count": null,
   "metadata": {},
   "outputs": [],
   "source": [
    "gdf_celdas[\"code\"].value_counts()"
   ]
  },
  {
   "cell_type": "code",
   "execution_count": null,
   "metadata": {},
   "outputs": [],
   "source": [
    "gdf_schools[\"country_code\"].value_counts()"
   ]
  },
  {
   "cell_type": "code",
   "execution_count": null,
   "metadata": {},
   "outputs": [],
   "source": [
    "# Select the data for the country\n",
    "gdf_celdas_bol = gdf_celdas[gdf_celdas[\"code\"] == \"bol\"]\n",
    "gdf_schools_bol = gdf_schools[gdf_schools[\"country_code\"] == \"BOL\"]"
   ]
  },
  {
   "cell_type": "code",
   "execution_count": null,
   "metadata": {},
   "outputs": [],
   "source": [
    "gdf_schools_bol"
   ]
  },
  {
   "cell_type": "code",
   "execution_count": null,
   "metadata": {},
   "outputs": [],
   "source": [
    "gdf_primary_schools_bol = gdf_schools_bol[gdf_schools_bol[\"nivel_primaria\"] == 1]\n",
    "gdf_middle_schools_bol = gdf_schools_bol[gdf_schools_bol[\"nivel_media\"] == 1]\n",
    "gdf_secondary_schools_bol = gdf_schools_bol[gdf_schools_bol[\"nivel_secundaria\"] == 1]"
   ]
  },
  {
   "cell_type": "code",
   "execution_count": null,
   "metadata": {},
   "outputs": [],
   "source": [
    "print(\"total # of schools in bolivia\", gdf_schools_bol.shape[0])\n",
    "print(\"primary:\", gdf_primary_schools_bol.shape[0])\n",
    "print(\"middle:\", gdf_middle_schools_bol.shape[0])\n",
    "print(\"secondary:\", gdf_secondary_schools_bol.shape[0])\n",
    "print(\n",
    "    \"add primary, middle, and secondary:\",\n",
    "    gdf_primary_schools_bol.shape[0]\n",
    "    + gdf_middle_schools_bol.shape[0]\n",
    "    + gdf_secondary_schools_bol.shape[0],\n",
    ")"
   ]
  },
  {
   "cell_type": "code",
   "execution_count": null,
   "metadata": {},
   "outputs": [],
   "source": [
    "up.routing.start_osrm_server(\"south-america/bolivia\", \"foot\")"
   ]
  },
  {
   "cell_type": "code",
   "execution_count": null,
   "metadata": {},
   "outputs": [],
   "source": [
    "gdf_celdas_bol_access_primary = up.accessibility.travel_times(\n",
    "    gdf_celdas_bol, gdf_primary_schools_bol, \"primary_schools\"\n",
    ")"
   ]
  },
  {
   "cell_type": "code",
   "execution_count": null,
   "metadata": {},
   "outputs": [],
   "source": [
    "# Obtain the school unique_id and lat_lon\n",
    "gdf_celdas_bol_access_primary = pd.merge(\n",
    "    gdf_celdas_bol_access_primary,\n",
    "    gdf_primary_schools_bol.reset_index()[[\"id_edificio\", \"lat\", \"lon\"]],\n",
    "    how=\"left\",\n",
    "    left_on=\"nearest_primary_schools_ix\",\n",
    "    right_index=True,\n",
    "    suffixes=(\"\", \"_primary_school\"),\n",
    ")"
   ]
  },
  {
   "cell_type": "code",
   "execution_count": null,
   "metadata": {},
   "outputs": [],
   "source": [
    "gdf_celdas_bol_access_middle = up.accessibility.travel_times(\n",
    "    gdf_celdas_bol_access_primary, gdf_middle_schools_bol, \"middle_schools\"\n",
    ")"
   ]
  },
  {
   "cell_type": "code",
   "execution_count": null,
   "metadata": {},
   "outputs": [],
   "source": [
    "# Obtain the middle school unique_id and lat_lon\n",
    "gdf_celdas_bol_access_middle = pd.merge(\n",
    "    gdf_celdas_bol_access_middle,\n",
    "    gdf_middle_schools_bol.reset_index()[[\"id_edificio\", \"lat\", \"lon\"]],\n",
    "    how=\"left\",\n",
    "    left_on=\"nearest_middle_schools_ix\",\n",
    "    right_index=True,\n",
    "    suffixes=(\"\", \"_middle_school\"),\n",
    ")"
   ]
  },
  {
   "cell_type": "code",
   "execution_count": null,
   "metadata": {},
   "outputs": [],
   "source": [
    "gdf_celdas_bol_access_middle.head()"
   ]
  },
  {
   "cell_type": "code",
   "execution_count": null,
   "metadata": {},
   "outputs": [],
   "source": [
    "gdf_celdas_bol_access_total = up.accessibility.travel_times(\n",
    "    gdf_celdas_bol_access_middle, gdf_secondary_schools_bol, \"secondary_schools\"\n",
    ")"
   ]
  },
  {
   "cell_type": "code",
   "execution_count": null,
   "metadata": {},
   "outputs": [],
   "source": [
    "# Obtain the secondary school unique_id and lat_lon\n",
    "gdf_celdas_bol_access_total = pd.merge(\n",
    "    gdf_celdas_bol_access_total,\n",
    "    gdf_secondary_schools_bol.reset_index()[[\"id_edificio\", \"lat\", \"lon\"]],\n",
    "    how=\"left\",\n",
    "    left_on=\"nearest_secondary_schools_ix\",\n",
    "    right_index=True,\n",
    "    suffixes=(\"\", \"_secondary_school\"),\n",
    ")"
   ]
  },
  {
   "cell_type": "code",
   "execution_count": null,
   "metadata": {},
   "outputs": [],
   "source": [
    "gdf_celdas_bol_access_total"
   ]
  },
  {
   "cell_type": "code",
   "execution_count": null,
   "metadata": {},
   "outputs": [],
   "source": [
    "up.routing.stop_osrm_server(\"south-america/bolivia\", \"foot\")\n",
    "# gdf_celdas_bol_access.head()"
   ]
  },
  {
   "cell_type": "code",
   "execution_count": null,
   "metadata": {},
   "outputs": [],
   "source": [
    "# Save the results\n",
    "# gdf_celdas_bol_access.to_parquet(\"outputs/celdas_bol_access.parquet\")\n",
    "gdf_celdas_bol_access_total.to_parquet(\"outputs/celdas_bol_access_v3.parquet\")"
   ]
  },
  {
   "cell_type": "code",
   "execution_count": null,
   "metadata": {},
   "outputs": [],
   "source": [
    "# Select the data for the country\n",
    "gdf_celdas_ecu = gdf_celdas[gdf_celdas[\"code\"] == \"ecu\"]\n",
    "gdf_schools_ecu = gdf_schools[gdf_schools[\"country_code\"] == \"ECU\"]"
   ]
  },
  {
   "cell_type": "code",
   "execution_count": null,
   "metadata": {},
   "outputs": [],
   "source": [
    "gdf_primary_schools_ecu = gdf_schools_ecu[gdf_schools_ecu[\"nivel_primaria\"] == 1]\n",
    "gdf_middle_schools_ecu = gdf_schools_ecu[gdf_schools_ecu[\"nivel_media\"] == 1]\n",
    "gdf_secondary_schools_ecu = gdf_schools_ecu[gdf_schools_ecu[\"nivel_secundaria\"] == 1]"
   ]
  },
  {
   "cell_type": "code",
   "execution_count": null,
   "metadata": {},
   "outputs": [],
   "source": [
    "print(\"total # of schools in ecuador\", gdf_schools_ecu.shape[0])\n",
    "print(\"primary:\", gdf_primary_schools_ecu.shape[0])\n",
    "print(\"middle:\", gdf_middle_schools_ecu.shape[0])\n",
    "print(\"secondary:\", gdf_secondary_schools_ecu.shape[0])\n",
    "print(\n",
    "    \"add primary, middle, and secondary:\",\n",
    "    gdf_primary_schools_ecu.shape[0]\n",
    "    + gdf_middle_schools_ecu.shape[0]\n",
    "    + gdf_secondary_schools_ecu.shape[0],\n",
    ")"
   ]
  },
  {
   "cell_type": "code",
   "execution_count": null,
   "metadata": {},
   "outputs": [],
   "source": [
    "# start server\n",
    "up.routing.start_osrm_server(\"south-america/ecuador\", \"foot\")"
   ]
  },
  {
   "cell_type": "code",
   "execution_count": null,
   "metadata": {},
   "outputs": [],
   "source": [
    "gdf_celdas_ecu_access_primary = up.accessibility.travel_times(\n",
    "    gdf_celdas_ecu, gdf_primary_schools_ecu, \"primary_schools\"\n",
    ")"
   ]
  },
  {
   "cell_type": "code",
   "execution_count": null,
   "metadata": {},
   "outputs": [],
   "source": [
    "# Obtain the school unique_id and lat_lon\n",
    "gdf_celdas_ecu_access_primary = pd.merge(\n",
    "    gdf_celdas_ecu_access_primary,\n",
    "    gdf_primary_schools_ecu.reset_index()[[\"id_edificio\", \"lat\", \"lon\"]],\n",
    "    how=\"left\",\n",
    "    left_on=\"nearest_primary_schools_ix\",\n",
    "    right_index=True,\n",
    "    suffixes=(\"\", \"_primary_school\"),\n",
    ")"
   ]
  },
  {
   "cell_type": "code",
   "execution_count": null,
   "metadata": {},
   "outputs": [],
   "source": [
    "gdf_celdas_ecu_access_middle = up.accessibility.travel_times(\n",
    "    gdf_celdas_ecu, gdf_middle_schools_ecu, \"middle_schools\"\n",
    ")"
   ]
  },
  {
   "cell_type": "code",
   "execution_count": null,
   "metadata": {},
   "outputs": [],
   "source": [
    "# Obtain the school unique_id and lat_lon\n",
    "gdf_celdas_ecu_access_middle = pd.merge(\n",
    "    gdf_celdas_ecu_access_middle,\n",
    "    gdf_middle_schools_ecu.reset_index()[[\"id_edificio\", \"lat\", \"lon\"]],\n",
    "    how=\"left\",\n",
    "    left_on=\"nearest_middle_schools_ix\",\n",
    "    right_index=True,\n",
    "    suffixes=(\"\", \"_middle_school\"),\n",
    ")"
   ]
  },
  {
   "cell_type": "code",
   "execution_count": null,
   "metadata": {},
   "outputs": [],
   "source": [
    "gdf_celdas_ecu_access_total = up.accessibility.travel_times(\n",
    "    gdf_celdas_ecu_access_middle, gdf_secondary_schools_ecu, \"secondary_schools\"\n",
    ")"
   ]
  },
  {
   "cell_type": "code",
   "execution_count": null,
   "metadata": {},
   "outputs": [],
   "source": [
    "# Obtain the secondary school unique_id and lat_lon\n",
    "gdf_celdas_ecu_access_total = pd.merge(\n",
    "    gdf_celdas_ecu_access_total,\n",
    "    gdf_secondary_schools_ecu.reset_index()[[\"id_edificio\", \"lat\", \"lon\"]],\n",
    "    how=\"left\",\n",
    "    left_on=\"nearest_secondary_schools_ix\",\n",
    "    right_index=True,\n",
    "    suffixes=(\"\", \"_secondary_school\"),\n",
    ")"
   ]
  },
  {
   "cell_type": "code",
   "execution_count": null,
   "metadata": {},
   "outputs": [],
   "source": [
    "# gdf_celdas_ecu_access.to_parquet(\"outputs/celdas_ecu_access.parquet\")\n",
    "gdf_celdas_ecu_access_total.to_parquet(\"outputs/celdas_ecu_access_v3.parquet\")"
   ]
  },
  {
   "cell_type": "code",
   "execution_count": null,
   "metadata": {},
   "outputs": [],
   "source": [
    "up.routing.stop_osrm_server(\"south-america/ecuador\", \"foot\")"
   ]
  },
  {
   "cell_type": "code",
   "execution_count": null,
   "metadata": {},
   "outputs": [],
   "source": [
    "gdf_celdas_ecu_access_total.head()"
   ]
  },
  {
   "cell_type": "code",
   "execution_count": null,
   "metadata": {},
   "outputs": [],
   "source": [
    "# Select the data for the country\n",
    "gdf_celdas_col = gdf_celdas[gdf_celdas[\"code\"] == \"col\"]\n",
    "gdf_schools_col = gdf_schools[gdf_schools[\"country_code\"] == \"COL\"]"
   ]
  },
  {
   "cell_type": "code",
   "execution_count": null,
   "metadata": {},
   "outputs": [],
   "source": [
    "gdf_primary_schools_col = gdf_schools_col[gdf_schools_col[\"nivel_primaria\"] == 1]\n",
    "gdf_middle_schools_col = gdf_schools_col[gdf_schools_col[\"nivel_media\"] == 1]\n",
    "gdf_secondary_schools_col = gdf_schools_col[gdf_schools_col[\"nivel_secundaria\"] == 1]"
   ]
  },
  {
   "cell_type": "code",
   "execution_count": null,
   "metadata": {},
   "outputs": [],
   "source": [
    "print(\"total # of schools in colombia\", gdf_schools_col.shape[0])\n",
    "print(\"primary:\", gdf_primary_schools_col.shape[0])\n",
    "print(\"middle:\", gdf_middle_schools_col.shape[0])\n",
    "print(\"secondary:\", gdf_secondary_schools_col.shape[0])\n",
    "print(\n",
    "    \"add primary, middle, and secondary:\",\n",
    "    gdf_primary_schools_col.shape[0]\n",
    "    + gdf_middle_schools_col.shape[0]\n",
    "    + gdf_secondary_schools_col.shape[0],\n",
    ")"
   ]
  },
  {
   "cell_type": "code",
   "execution_count": null,
   "metadata": {},
   "outputs": [],
   "source": [
    "# start server\n",
    "up.routing.start_osrm_server(\"south-america/colombia\", \"foot\")"
   ]
  },
  {
   "cell_type": "code",
   "execution_count": null,
   "metadata": {},
   "outputs": [],
   "source": [
    "gdf_celdas_col_access_primary = up.accessibility.travel_times(\n",
    "    gdf_celdas_col, gdf_primary_schools_col, \"primary_schools\"\n",
    ")"
   ]
  },
  {
   "cell_type": "code",
   "execution_count": null,
   "metadata": {},
   "outputs": [],
   "source": [
    "# Obtain the school unique_id and lat_lon\n",
    "gdf_celdas_col_access_primary = pd.merge(\n",
    "    gdf_celdas_col_access_primary,\n",
    "    gdf_primary_schools_col.reset_index()[[\"id_edificio\", \"lat\", \"lon\"]],\n",
    "    how=\"left\",\n",
    "    left_on=\"nearest_primary_schools_ix\",\n",
    "    right_index=True,\n",
    "    suffixes=(\"\", \"_primary_school\"),\n",
    ")"
   ]
  },
  {
   "cell_type": "code",
   "execution_count": null,
   "metadata": {},
   "outputs": [],
   "source": [
    "gdf_celdas_col_access_middle = up.accessibility.travel_times(\n",
    "    gdf_celdas_col, gdf_middle_schools_col, \"middle_schools\"\n",
    ")"
   ]
  },
  {
   "cell_type": "code",
   "execution_count": null,
   "metadata": {},
   "outputs": [],
   "source": [
    "# Obtain the school unique_id and lat_lon\n",
    "gdf_celdas_col_access_middle = pd.merge(\n",
    "    gdf_celdas_col_access_middle,\n",
    "    gdf_middle_schools_col.reset_index()[[\"id_edificio\", \"lat\", \"lon\"]],\n",
    "    how=\"left\",\n",
    "    left_on=\"nearest_middle_schools_ix\",\n",
    "    right_index=True,\n",
    "    suffixes=(\"\", \"_middle_school\"),\n",
    ")"
   ]
  },
  {
   "cell_type": "code",
   "execution_count": null,
   "metadata": {},
   "outputs": [],
   "source": [
    "gdf_celdas_col_access_total = up.accessibility.travel_times(\n",
    "    gdf_celdas_col_access_middle, gdf_secondary_schools_col, \"secondary_schools\"\n",
    ")"
   ]
  },
  {
   "cell_type": "code",
   "execution_count": null,
   "metadata": {},
   "outputs": [],
   "source": [
    "# Obtain the secondary school unique_id and lat_lon\n",
    "gdf_celdas_col_access_total = pd.merge(\n",
    "    gdf_celdas_col_access_total,\n",
    "    gdf_secondary_schools_col.reset_index()[[\"id_edificio\", \"lat\", \"lon\"]],\n",
    "    how=\"left\",\n",
    "    left_on=\"nearest_secondary_schools_ix\",\n",
    "    right_index=True,\n",
    "    suffixes=(\"\", \"_secondary_school\"),\n",
    ")"
   ]
  },
  {
   "cell_type": "code",
   "execution_count": null,
   "metadata": {},
   "outputs": [],
   "source": [
    "# gdf_celdas_ecu_access.to_parquet(\"outputs/celdas_ecu_access.parquet\")\n",
    "gdf_celdas_col_access_total.to_parquet(\"outputs/celdas_col_access_v3.parquet\")"
   ]
  },
  {
   "cell_type": "code",
   "execution_count": null,
   "metadata": {},
   "outputs": [],
   "source": [
    "up.routing.stop_osrm_server(\"south-america/colombia\", \"foot\")"
   ]
  },
  {
   "cell_type": "code",
   "execution_count": null,
   "metadata": {},
   "outputs": [],
   "source": [
    "gdf_celdas_col_access_total.head()"
   ]
  },
  {
   "cell_type": "code",
   "execution_count": null,
   "metadata": {},
   "outputs": [],
   "source": [
    "# Read and concatenate them into a single GeoDataFrame\n",
    "gdf_combined_comp = gpd.GeoDataFrame(\n",
    "    pd.concat(\n",
    "        [\n",
    "            gdf_celdas_bol_access_total,\n",
    "            gdf_celdas_col_access_total,\n",
    "            gdf_celdas_ecu_access_total,\n",
    "            gdf_celdas_peru_access_total,\n",
    "        ],\n",
    "        ignore_index=True,\n",
    "    )\n",
    ")\n",
    "\n",
    "# Display the combined GeoDataFrame\n",
    "gdf_combined_comp.head()"
   ]
  },
  {
   "cell_type": "code",
   "execution_count": null,
   "metadata": {},
   "outputs": [],
   "source": [
    "# gdf_combined_comp[\"nivel_educativo\"] = gdf_combined_comp.apply(\n",
    "#     lambda x: (\n",
    "#         \"Primaria\"\n",
    "#         if x[\"EduNivelPrimaria\"] == 1\n",
    "#         else \"Secundaria\" if x[\"EduNivelSecundariaTotal\"] == 1 else \"Ninguno\"\n",
    "#     ),\n",
    "#     axis=1,\n",
    "# )"
   ]
  },
  {
   "cell_type": "code",
   "execution_count": null,
   "metadata": {},
   "outputs": [],
   "source": [
    "# gdf_combined_comp[\"nivel_educativo\"].value_counts()"
   ]
  },
  {
   "cell_type": "code",
   "execution_count": null,
   "metadata": {},
   "outputs": [],
   "source": [
    "# Save the combined GeoDataFrame to a new file\n",
    "gdf_combined_comp.to_parquet(\"outputs/celdas_combined_access_v3.parquet\")"
   ]
  },
  {
   "cell_type": "code",
   "execution_count": null,
   "metadata": {},
   "outputs": [],
   "source": [
    "gdf_schools"
   ]
  },
  {
   "cell_type": "code",
   "execution_count": null,
   "metadata": {},
   "outputs": [],
   "source": []
  }
 ],
 "metadata": {
  "kernelspec": {
   "display_name": ".venv",
   "language": "python",
   "name": "python3"
  },
  "language_info": {
   "codemirror_mode": {
    "name": "ipython",
    "version": 3
   },
   "file_extension": ".py",
   "mimetype": "text/x-python",
   "name": "python",
   "nbconvert_exporter": "python",
   "pygments_lexer": "ipython3",
   "version": "3.12.10"
  }
 },
 "nbformat": 4,
 "nbformat_minor": 2
}
