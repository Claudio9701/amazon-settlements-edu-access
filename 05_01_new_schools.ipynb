{
 "cells": [
  {
   "cell_type": "code",
   "execution_count": 1,
   "id": "189e67fc",
   "metadata": {},
   "outputs": [],
   "source": [
    "import geopandas as gpd"
   ]
  },
  {
   "cell_type": "code",
   "execution_count": null,
   "id": "58f5e798",
   "metadata": {},
   "outputs": [],
   "source": [
    "amazon_schools = gpd.read_file(\"inputs/new_schools/escuelas_amazonia.geojson\")"
   ]
  },
  {
   "cell_type": "code",
   "execution_count": 3,
   "id": "541d69c9",
   "metadata": {},
   "outputs": [
    {
     "data": {
      "text/plain": [
       "<Geographic 2D CRS: EPSG:4326>\n",
       "Name: WGS 84\n",
       "Axis Info [ellipsoidal]:\n",
       "- Lat[north]: Geodetic latitude (degree)\n",
       "- Lon[east]: Geodetic longitude (degree)\n",
       "Area of Use:\n",
       "- name: World.\n",
       "- bounds: (-180.0, -90.0, 180.0, 90.0)\n",
       "Datum: World Geodetic System 1984 ensemble\n",
       "- Ellipsoid: WGS 84\n",
       "- Prime Meridian: Greenwich"
      ]
     },
     "execution_count": 3,
     "metadata": {},
     "output_type": "execute_result"
    }
   ],
   "source": [
    "amazon_schools.crs"
   ]
  },
  {
   "cell_type": "code",
   "execution_count": 4,
   "id": "c4215810",
   "metadata": {},
   "outputs": [
    {
     "data": {
      "text/html": [
       "<div>\n",
       "<style scoped>\n",
       "    .dataframe tbody tr th:only-of-type {\n",
       "        vertical-align: middle;\n",
       "    }\n",
       "\n",
       "    .dataframe tbody tr th {\n",
       "        vertical-align: top;\n",
       "    }\n",
       "\n",
       "    .dataframe thead th {\n",
       "        text-align: right;\n",
       "    }\n",
       "</style>\n",
       "<table border=\"1\" class=\"dataframe\">\n",
       "  <thead>\n",
       "    <tr style=\"text-align: right;\">\n",
       "      <th></th>\n",
       "      <th>id_edificio</th>\n",
       "      <th>nivel_inicial</th>\n",
       "      <th>nivel_primaria</th>\n",
       "      <th>nivel_media</th>\n",
       "      <th>nivel_secundaria</th>\n",
       "      <th>latitud</th>\n",
       "      <th>longitud</th>\n",
       "      <th>area</th>\n",
       "      <th>internet</th>\n",
       "      <th>internet_tipo</th>\n",
       "      <th>electricidad</th>\n",
       "      <th>electricidad_tipo</th>\n",
       "      <th>DESIGN</th>\n",
       "      <th>ASQKM</th>\n",
       "      <th>POPGHS25</th>\n",
       "      <th>DENS</th>\n",
       "      <th>geometry</th>\n",
       "    </tr>\n",
       "  </thead>\n",
       "  <tbody>\n",
       "    <tr>\n",
       "      <th>0</th>\n",
       "      <td>BOL00002</td>\n",
       "      <td>0</td>\n",
       "      <td>1</td>\n",
       "      <td>0</td>\n",
       "      <td>0</td>\n",
       "      <td>-20.010582</td>\n",
       "      <td>-64.434413</td>\n",
       "      <td>NaN</td>\n",
       "      <td>NaN</td>\n",
       "      <td>None</td>\n",
       "      <td>NaN</td>\n",
       "      <td>None</td>\n",
       "      <td>AmazoniaForever360+ area</td>\n",
       "      <td>8307960.498</td>\n",
       "      <td>5.996527e+07</td>\n",
       "      <td>7.217809</td>\n",
       "      <td>POINT (-64.43441 -20.01058)</td>\n",
       "    </tr>\n",
       "    <tr>\n",
       "      <th>1</th>\n",
       "      <td>BOL00005</td>\n",
       "      <td>0</td>\n",
       "      <td>1</td>\n",
       "      <td>0</td>\n",
       "      <td>0</td>\n",
       "      <td>-19.929181</td>\n",
       "      <td>-64.418177</td>\n",
       "      <td>NaN</td>\n",
       "      <td>NaN</td>\n",
       "      <td>None</td>\n",
       "      <td>NaN</td>\n",
       "      <td>None</td>\n",
       "      <td>AmazoniaForever360+ area</td>\n",
       "      <td>8307960.498</td>\n",
       "      <td>5.996527e+07</td>\n",
       "      <td>7.217809</td>\n",
       "      <td>POINT (-64.41818 -19.92918)</td>\n",
       "    </tr>\n",
       "    <tr>\n",
       "      <th>2</th>\n",
       "      <td>BOL00006</td>\n",
       "      <td>1</td>\n",
       "      <td>1</td>\n",
       "      <td>0</td>\n",
       "      <td>0</td>\n",
       "      <td>-19.966962</td>\n",
       "      <td>-64.397147</td>\n",
       "      <td>NaN</td>\n",
       "      <td>NaN</td>\n",
       "      <td>None</td>\n",
       "      <td>NaN</td>\n",
       "      <td>None</td>\n",
       "      <td>AmazoniaForever360+ area</td>\n",
       "      <td>8307960.498</td>\n",
       "      <td>5.996527e+07</td>\n",
       "      <td>7.217809</td>\n",
       "      <td>POINT (-64.39715 -19.96696)</td>\n",
       "    </tr>\n",
       "    <tr>\n",
       "      <th>3</th>\n",
       "      <td>BOL00007</td>\n",
       "      <td>0</td>\n",
       "      <td>1</td>\n",
       "      <td>1</td>\n",
       "      <td>1</td>\n",
       "      <td>-20.105301</td>\n",
       "      <td>-64.413994</td>\n",
       "      <td>NaN</td>\n",
       "      <td>NaN</td>\n",
       "      <td>None</td>\n",
       "      <td>NaN</td>\n",
       "      <td>None</td>\n",
       "      <td>AmazoniaForever360+ area</td>\n",
       "      <td>8307960.498</td>\n",
       "      <td>5.996527e+07</td>\n",
       "      <td>7.217809</td>\n",
       "      <td>POINT (-64.41399 -20.1053)</td>\n",
       "    </tr>\n",
       "    <tr>\n",
       "      <th>4</th>\n",
       "      <td>BOL00009</td>\n",
       "      <td>0</td>\n",
       "      <td>1</td>\n",
       "      <td>0</td>\n",
       "      <td>0</td>\n",
       "      <td>-19.943633</td>\n",
       "      <td>-64.352435</td>\n",
       "      <td>NaN</td>\n",
       "      <td>NaN</td>\n",
       "      <td>None</td>\n",
       "      <td>NaN</td>\n",
       "      <td>None</td>\n",
       "      <td>AmazoniaForever360+ area</td>\n",
       "      <td>8307960.498</td>\n",
       "      <td>5.996527e+07</td>\n",
       "      <td>7.217809</td>\n",
       "      <td>POINT (-64.35244 -19.94363)</td>\n",
       "    </tr>\n",
       "  </tbody>\n",
       "</table>\n",
       "</div>"
      ],
      "text/plain": [
       "  id_edificio  nivel_inicial  nivel_primaria  nivel_media  nivel_secundaria  \\\n",
       "0    BOL00002              0               1            0                 0   \n",
       "1    BOL00005              0               1            0                 0   \n",
       "2    BOL00006              1               1            0                 0   \n",
       "3    BOL00007              0               1            1                 1   \n",
       "4    BOL00009              0               1            0                 0   \n",
       "\n",
       "     latitud   longitud  area  internet internet_tipo  electricidad  \\\n",
       "0 -20.010582 -64.434413   NaN       NaN          None           NaN   \n",
       "1 -19.929181 -64.418177   NaN       NaN          None           NaN   \n",
       "2 -19.966962 -64.397147   NaN       NaN          None           NaN   \n",
       "3 -20.105301 -64.413994   NaN       NaN          None           NaN   \n",
       "4 -19.943633 -64.352435   NaN       NaN          None           NaN   \n",
       "\n",
       "  electricidad_tipo                    DESIGN        ASQKM      POPGHS25  \\\n",
       "0              None  AmazoniaForever360+ area  8307960.498  5.996527e+07   \n",
       "1              None  AmazoniaForever360+ area  8307960.498  5.996527e+07   \n",
       "2              None  AmazoniaForever360+ area  8307960.498  5.996527e+07   \n",
       "3              None  AmazoniaForever360+ area  8307960.498  5.996527e+07   \n",
       "4              None  AmazoniaForever360+ area  8307960.498  5.996527e+07   \n",
       "\n",
       "       DENS                     geometry  \n",
       "0  7.217809  POINT (-64.43441 -20.01058)  \n",
       "1  7.217809  POINT (-64.41818 -19.92918)  \n",
       "2  7.217809  POINT (-64.39715 -19.96696)  \n",
       "3  7.217809   POINT (-64.41399 -20.1053)  \n",
       "4  7.217809  POINT (-64.35244 -19.94363)  "
      ]
     },
     "execution_count": 4,
     "metadata": {},
     "output_type": "execute_result"
    }
   ],
   "source": [
    "amazon_schools.head()"
   ]
  },
  {
   "cell_type": "code",
   "execution_count": 5,
   "id": "ca9737da",
   "metadata": {},
   "outputs": [],
   "source": [
    "amazon_schools[\"country_code\"] = amazon_schools[\"id_edificio\"].str[:3]"
   ]
  },
  {
   "cell_type": "code",
   "execution_count": 6,
   "id": "2b61845d",
   "metadata": {},
   "outputs": [
    {
     "data": {
      "text/plain": [
       "country_code\n",
       "PER    33561\n",
       "BRA    25140\n",
       "BOL     8430\n",
       "ECU     3404\n",
       "COL     2921\n",
       "Name: count, dtype: int64"
      ]
     },
     "execution_count": 6,
     "metadata": {},
     "output_type": "execute_result"
    }
   ],
   "source": [
    "amazon_schools[\"country_code\"].value_counts()"
   ]
  },
  {
   "cell_type": "code",
   "execution_count": 8,
   "id": "79b3e75c",
   "metadata": {},
   "outputs": [],
   "source": [
    "amazon_schools.to_parquet(\n",
    "    \"outputs/amazon_schools.parquet\",\n",
    "    index=False,\n",
    ")"
   ]
  },
  {
   "cell_type": "code",
   "execution_count": null,
   "id": "6af44760",
   "metadata": {},
   "outputs": [],
   "source": []
  }
 ],
 "metadata": {
  "kernelspec": {
   "display_name": ".venv",
   "language": "python",
   "name": "python3"
  },
  "language_info": {
   "codemirror_mode": {
    "name": "ipython",
    "version": 3
   },
   "file_extension": ".py",
   "mimetype": "text/x-python",
   "name": "python",
   "nbconvert_exporter": "python",
   "pygments_lexer": "ipython3",
   "version": "3.12.10"
  }
 },
 "nbformat": 4,
 "nbformat_minor": 5
}
