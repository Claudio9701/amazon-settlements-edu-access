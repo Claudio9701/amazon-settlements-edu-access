{
 "cells": [
  {
   "cell_type": "code",
   "execution_count": null,
   "metadata": {},
   "outputs": [],
   "source": [
    "import matplotlib.pyplot as plt\n",
    "import pandas as pd\n",
    "import plotly\n",
    "import plotly.express as px\n",
    "import geopandas as gpd\n",
    "import contextily as ctx\n",
    "import rioxarray\n",
    "import urbanpy as up\n",
    "from mpl_toolkits.axes_grid1 import make_axes_locatable\n",
    "from tqdm.notebook import tqdm\n",
    "from geocube.api.core import make_geocube"
   ]
  },
  {
   "cell_type": "code",
   "execution_count": null,
   "metadata": {},
   "outputs": [],
   "source": [
    "tqdm.pandas()"
   ]
  },
  {
   "cell_type": "code",
   "execution_count": null,
   "metadata": {},
   "outputs": [],
   "source": [
    "# Read the grid data\n",
    "gdf_celdas = gpd.read_parquet(\"outputs/celdas_02_06_2025.parquet\")"
   ]
  },
  {
   "cell_type": "code",
   "execution_count": null,
   "metadata": {},
   "outputs": [],
   "source": [
    "# Set the base path for the data\n",
    "BASE_PATH = \"/Users/claudio/Documents/amazonia-bid/inputs/WorldPop\"\n",
    "countries_labels = [\n",
    "    \"per\",\n",
    "    \"col\",\n",
    "    \"bol\",\n",
    "    \"ecu\",\n",
    "]  # \"bra\", TODO: Download brazil data (4GB per file * 6 files)\n",
    "age_groups = [5, 10, 15]  # 5-9, 10-14, 15-19\n",
    "genders = [\"m\", \"f\"]"
   ]
  },
  {
   "cell_type": "code",
   "execution_count": null,
   "metadata": {},
   "outputs": [],
   "source": [
    "# Read the country polygons\n",
    "countries = gpd.read_parquet(\n",
    "    \"~/Documents/amazonia-bid/outputs/amazon_countries.parquet\"\n",
    ")\n",
    "countries"
   ]
  },
  {
   "cell_type": "code",
   "execution_count": null,
   "metadata": {},
   "outputs": [],
   "source": [
    "# Visualize the countries\n",
    "fig, ax = plt.subplots(figsize=(10, 10))\n",
    "\n",
    "# Plot the polygon with the population data\n",
    "countries.plot(ax=ax, column=\"ADM0_PCODE\", alpha=0.5, edgecolor=\"k\", legend=True)\n",
    "\n",
    "# Add the basemap\n",
    "ctx.add_basemap(ax, source=ctx.providers.Esri.WorldImagery, crs=countries.crs)\n",
    "\n",
    "# Add the title\n",
    "ax.set_title(\"Country Boundaries\")\n",
    "\n",
    "# Add the grid\n",
    "ax.grid(True)\n",
    "\n",
    "# Add the x and y labels\n",
    "ax.set_xlabel(\"Longitude\")\n",
    "ax.set_ylabel(\"Latitude\")\n",
    "\n",
    "# Show the plot\n",
    "plt.show()"
   ]
  },
  {
   "cell_type": "code",
   "execution_count": null,
   "metadata": {},
   "outputs": [],
   "source": [
    "# Guyana, Suriname, Venezuela are not included in the analysis\n",
    "countries_ADM0CODE = [\"PE\", \"CO\", \"EC\", \"BO\"]  # TODO: Fix \"BR\" data errors\n",
    "amzn_countries = countries[countries[\"ADM0_PCODE\"].isin(countries_ADM0CODE)]"
   ]
  },
  {
   "cell_type": "code",
   "execution_count": null,
   "metadata": {},
   "outputs": [],
   "source": [
    "countries_labels = sorted(countries_labels)\n",
    "countries_labels"
   ]
  },
  {
   "cell_type": "code",
   "execution_count": null,
   "metadata": {},
   "outputs": [],
   "source": [
    "amzn_countries = amzn_countries.sort_values(by=[\"ADM0_PCODE\"], ascending=True)\n",
    "amzn_countries"
   ]
  },
  {
   "cell_type": "code",
   "execution_count": null,
   "metadata": {},
   "outputs": [],
   "source": [
    "amzn_countries[\"code\"] = countries_labels"
   ]
  },
  {
   "cell_type": "code",
   "execution_count": null,
   "metadata": {},
   "outputs": [],
   "source": [
    "amzn_countries"
   ]
  },
  {
   "cell_type": "code",
   "execution_count": null,
   "metadata": {},
   "outputs": [],
   "source": [
    "# Now we will asign a country code to each cell in the grid\n",
    "gdf_celdas_countries = gdf_celdas.sjoin(\n",
    "    amzn_countries,\n",
    "    how=\"left\",\n",
    "    predicate=\"intersects\",\n",
    "    lsuffix=\"celdas\",\n",
    "    rsuffix=\"countries\",\n",
    ")"
   ]
  },
  {
   "cell_type": "code",
   "execution_count": null,
   "metadata": {},
   "outputs": [],
   "source": [
    "# NOTE: We will simply drop the duplicated rows for now\n",
    "gdf_celdas_countries = gdf_celdas_countries.drop_duplicates(subset=[\"cell_id\"])"
   ]
  },
  {
   "cell_type": "code",
   "execution_count": null,
   "metadata": {},
   "outputs": [],
   "source": [
    "# Check the joined data has the same number of rows as the original grid data\n",
    "try:\n",
    "    assert (\n",
    "        gdf_celdas.shape[0] == gdf_celdas_countries.shape[0]\n",
    "    ), \"Number of rows mismatch\"\n",
    "except AssertionError as e:\n",
    "    print(f\"AssertionError: {e}\")\n",
    "    print(\"Number of rows in gdf_celdas:\", gdf_celdas.shape[0])\n",
    "    print(\"Number of rows in gdf_celdas_countries:\", gdf_celdas_countries.shape[0])"
   ]
  },
  {
   "cell_type": "code",
   "execution_count": null,
   "metadata": {},
   "outputs": [],
   "source": [
    "# Save the joined data\n",
    "gdf_celdas_countries.to_parquet(\"outputs/celdas_countries_wo_br_02_06_2025.parquet\")"
   ]
  },
  {
   "cell_type": "code",
   "execution_count": null,
   "metadata": {},
   "outputs": [],
   "source": [
    "# Check the unique country codes\n",
    "gdf_celdas_countries[\"code\"].unique()"
   ]
  },
  {
   "cell_type": "code",
   "execution_count": null,
   "metadata": {},
   "outputs": [],
   "source": [
    "# Check the number of cells per country\n",
    "gdf_celdas_countries[\"code\"].value_counts()"
   ]
  },
  {
   "cell_type": "code",
   "execution_count": null,
   "metadata": {},
   "outputs": [],
   "source": [
    "# Check the percentage of cells per country\n",
    "gdf_celdas_countries[\"code\"].value_counts(normalize=True) * 100"
   ]
  },
  {
   "cell_type": "code",
   "execution_count": null,
   "metadata": {},
   "outputs": [],
   "source": [
    "# Check the number of cells without a country code\n",
    "gdf_celdas_countries[\"code\"].isna().sum()"
   ]
  },
  {
   "cell_type": "code",
   "execution_count": null,
   "metadata": {},
   "outputs": [],
   "source": [
    "# Check the percentage of cells without a country code\n",
    "(gdf_celdas_countries[\"code\"].isna().sum() / gdf_celdas_countries.shape[0]) * 100"
   ]
  },
  {
   "cell_type": "code",
   "execution_count": null,
   "metadata": {},
   "outputs": [],
   "source": [
    "# Convert the cell_id to integer so it can be rasterized for population aggregation\n",
    "gdf_celdas_countries[\"cell_id\"] = gdf_celdas_countries[\"cell_id\"].astype(\"int32\")\n",
    "# check the type\n",
    "gdf_celdas_countries[\"cell_id\"].dtype"
   ]
  },
  {
   "cell_type": "code",
   "execution_count": null,
   "metadata": {},
   "outputs": [],
   "source": [
    "# Accumulate the population data for each country\n",
    "countries_geodata = {}\n",
    "\n",
    "for index, row in tqdm(\n",
    "    amzn_countries.iterrows(), total=amzn_countries.shape[0], desc=\"Countries\"\n",
    "):\n",
    "\n",
    "    # Filter the country cells\n",
    "    country = row.code\n",
    "\n",
    "    # Skip bol for now\n",
    "    if country in [\"per\"]:\n",
    "        continue\n",
    "\n",
    "    celdas_country = gdf_celdas_countries.loc[\n",
    "        gdf_celdas_countries[\"code\"] == country, :\n",
    "    ]\n",
    "    # print(f\"{country=}\")\n",
    "    # print(f\"{celdas_country=}\")\n",
    "\n",
    "    # Check the data type of cell_id\n",
    "    assert (\n",
    "        celdas_country[\"cell_id\"].dtype == \"int32\"\n",
    "    ), f\"cell_id is not int32 for {country}\"\n",
    "\n",
    "    # Accumulate the population data for each age group+gender pair\n",
    "    population_data = []\n",
    "    for age_group in tqdm(\n",
    "        age_groups, total=len(age_groups), desc=f\"Age Groups for {row.code}\"\n",
    "    ):  # 5-9, 10-14, 15-19\n",
    "        for gender in tqdm(\n",
    "            genders, total=len(genders), desc=f\"Genders for {row.code} - {age_group}\"\n",
    "        ):  # m, f\n",
    "            pop_col = f\"pop_2020_{gender}_{age_group}\"\n",
    "\n",
    "            file_name = (\n",
    "                BASE_PATH + f\"/{country}/{country}_{gender}_{age_group}_2020.tif\"\n",
    "            )\n",
    "\n",
    "            # Read the tiff file with the population data\n",
    "            xds = rioxarray.open_rasterio(\n",
    "                file_name, masked=True, chunks={\"x\": 1024, \"y\": 1024}\n",
    "            )\n",
    "\n",
    "            # Clip the raster with the country cells\n",
    "            xds_clipped = xds.rio.clip(\n",
    "                celdas_country.geometry.values, celdas_country.crs, from_disk=True\n",
    "            )\n",
    "            # print(f\"{xds_clipped=}\")\n",
    "\n",
    "            # Rasterize the cell_id to be able to calculate the total population in each cell\n",
    "            xds_mask = make_geocube(\n",
    "                celdas_country,\n",
    "                measurements=[\"cell_id\"],\n",
    "                like=xds_clipped,\n",
    "                fill=0,\n",
    "            )\n",
    "            # print(f\"{xds_mask=}\")\n",
    "\n",
    "            # Add a new dimension to the mask for the population using the clipped raster\n",
    "            xds_clipped_squeezed = xds_clipped.squeeze()\n",
    "            xds_mask[pop_col] = (\n",
    "                xds_clipped_squeezed.dims,\n",
    "                xds_clipped_squeezed.values,\n",
    "                xds_clipped_squeezed.attrs,\n",
    "                xds_clipped_squeezed.encoding,\n",
    "            )\n",
    "\n",
    "            # Now we can calculate the total population in each cell and add it back to the geodataframe\n",
    "            agg_pop = (\n",
    "                xds_mask.drop_vars(\"spatial_ref\")\n",
    "                .groupby(xds_mask.cell_id)\n",
    "                .sum()\n",
    "                .to_dataframe()\n",
    "            )\n",
    "\n",
    "            population_data.append(agg_pop)\n",
    "\n",
    "        countries_geodata[country] = pd.concat(population_data)"
   ]
  },
  {
   "cell_type": "code",
   "execution_count": null,
   "metadata": {},
   "outputs": [],
   "source": [
    "import os"
   ]
  },
  {
   "cell_type": "code",
   "execution_count": null,
   "metadata": {},
   "outputs": [],
   "source": [
    "for key, value in countries_geodata.items():\n",
    "    if key == \"per\":\n",
    "        continue\n",
    "\n",
    "    output_fn = f\"outputs/{key}_pop_2020_04_06_2025.parquet\"\n",
    "    if os.path.exists(output_fn):\n",
    "        print(f\"File {output_fn} already exists. Skipping.\")\n",
    "\n",
    "    countries_geodata[key].reset_index().to_parquet(output_fn, index=False)"
   ]
  },
  {
   "cell_type": "code",
   "execution_count": null,
   "metadata": {},
   "outputs": [],
   "source": [
    "countries_geodata[\"per\"].reset_index().to_parquet(\n",
    "    \"peru_worldpop_school_age_celdas.parquet\", index=False\n",
    ")"
   ]
  },
  {
   "cell_type": "code",
   "execution_count": null,
   "metadata": {},
   "outputs": [],
   "source": [
    "countries_geodata[\"bol\"]"
   ]
  },
  {
   "cell_type": "code",
   "execution_count": null,
   "metadata": {},
   "outputs": [],
   "source": [
    "countries_geodata[\"col\"]"
   ]
  },
  {
   "cell_type": "code",
   "execution_count": null,
   "metadata": {},
   "outputs": [],
   "source": [
    "# Check the number of cells per country\n",
    "gdf_celdas_countries[\"code\"].value_counts()"
   ]
  },
  {
   "cell_type": "code",
   "execution_count": null,
   "metadata": {},
   "outputs": [],
   "source": [
    "countries_geodata.keys()"
   ]
  },
  {
   "cell_type": "code",
   "execution_count": null,
   "metadata": {},
   "outputs": [],
   "source": [
    "for key, value in countries_geodata.items():\n",
    "    print(f\"{key}\\t {value.shape[0]}\")"
   ]
  },
  {
   "cell_type": "code",
   "execution_count": null,
   "metadata": {},
   "outputs": [],
   "source": [
    "cells_pop_bol = countries_geodata[\"bol\"]"
   ]
  },
  {
   "cell_type": "code",
   "execution_count": null,
   "metadata": {},
   "outputs": [],
   "source": [
    "cells_pop_bol"
   ]
  },
  {
   "cell_type": "code",
   "execution_count": null,
   "metadata": {},
   "outputs": [],
   "source": [
    "clean_dfs = []\n",
    "\n",
    "for col in cells_pop_bol.columns:\n",
    "    clean_dfs.append(cells_pop_bol[col].dropna())"
   ]
  },
  {
   "cell_type": "code",
   "execution_count": null,
   "metadata": {},
   "outputs": [],
   "source": [
    "clean_dfs_bol = pd.concat(clean_dfs, axis=1)"
   ]
  },
  {
   "cell_type": "code",
   "execution_count": null,
   "metadata": {},
   "outputs": [],
   "source": [
    "clean_dfs_bol.shape[0], (gdf_celdas_countries[\"code\"] == \"bol\").sum()"
   ]
  },
  {
   "cell_type": "code",
   "execution_count": null,
   "metadata": {},
   "outputs": [],
   "source": [
    "celdas_bol = gdf_celdas_countries[gdf_celdas_countries[\"code\"] == \"bol\"]"
   ]
  },
  {
   "cell_type": "code",
   "execution_count": null,
   "metadata": {},
   "outputs": [],
   "source": [
    "celdas_bol_with_pop = celdas_bol.merge(\n",
    "    clean_dfs_bol,\n",
    "    how=\"left\",\n",
    "    left_on=\"cell_id\",\n",
    "    right_index=True,\n",
    ")"
   ]
  },
  {
   "cell_type": "code",
   "execution_count": null,
   "metadata": {},
   "outputs": [],
   "source": [
    "celdas_bol_with_pop.shape"
   ]
  },
  {
   "cell_type": "code",
   "execution_count": null,
   "metadata": {},
   "outputs": [],
   "source": [
    "celdas_bol_with_pop.columns"
   ]
  },
  {
   "cell_type": "code",
   "execution_count": null,
   "metadata": {},
   "outputs": [],
   "source": [
    "celdas_bol_with_pop_df = celdas_bol_with_pop[\n",
    "    [\n",
    "        \"cell_id\",\n",
    "        \"smod\",\n",
    "        \"geometry\",\n",
    "        \"code\",\n",
    "        \"pop_2020_m_5\",\n",
    "        \"pop_2020_f_5\",\n",
    "        \"pop_2020_m_10\",\n",
    "        \"pop_2020_f_10\",\n",
    "        \"pop_2020_m_15\",\n",
    "        \"pop_2020_f_15\",\n",
    "    ]\n",
    "]"
   ]
  },
  {
   "cell_type": "code",
   "execution_count": null,
   "metadata": {},
   "outputs": [],
   "source": [
    "# poblacion hombres\n",
    "celdas_bol_with_pop_df[\"pop_m\"] = (\n",
    "    celdas_bol_with_pop_df[\"pop_2020_m_5\"]\n",
    "    + celdas_bol_with_pop_df[\"pop_2020_m_10\"]\n",
    "    + celdas_bol_with_pop_df[\"pop_2020_m_15\"]\n",
    ")\n",
    "\n",
    "# poblacion mujeres\n",
    "celdas_bol_with_pop_df[\"pop_f\"] = (\n",
    "    celdas_bol_with_pop_df[\"pop_2020_f_5\"]\n",
    "    + celdas_bol_with_pop_df[\"pop_2020_f_10\"]\n",
    "    + celdas_bol_with_pop_df[\"pop_2020_f_15\"]\n",
    ")\n",
    "# poblacion total\n",
    "celdas_bol_with_pop_df[\"pop_total\"] = (\n",
    "    celdas_bol_with_pop_df[\"pop_m\"] + celdas_bol_with_pop_df[\"pop_f\"]\n",
    ")\n",
    "\n",
    "# poblacion en edad de escuela primaria\n",
    "celdas_bol_with_pop_df[\"pop_primary_school_age\"] = (\n",
    "    celdas_bol_with_pop_df[\"pop_2020_m_5\"] + celdas_bol_with_pop_df[\"pop_2020_f_5\"]\n",
    ")\n",
    "\n",
    "# poblacion en edad de escuela secundaria\n",
    "celdas_bol_with_pop_df[\"pop_secondary_school_age\"] = (\n",
    "    celdas_bol_with_pop_df[\"pop_2020_m_10\"]\n",
    "    + celdas_bol_with_pop_df[\"pop_2020_f_10\"]\n",
    "    + celdas_bol_with_pop_df[\"pop_2020_m_15\"]\n",
    "    + celdas_bol_with_pop_df[\"pop_2020_f_15\"]\n",
    ")"
   ]
  },
  {
   "cell_type": "code",
   "execution_count": null,
   "metadata": {},
   "outputs": [],
   "source": [
    "celdas_bol_with_pop_df.info()"
   ]
  },
  {
   "cell_type": "code",
   "execution_count": null,
   "metadata": {},
   "outputs": [],
   "source": [
    "import seaborn as sns\n",
    "\n",
    "import matplotlib.pyplot as plt\n",
    "\n",
    "# Prepare the data for plotting\n",
    "plot_data = celdas_bol_with_pop_df[\n",
    "    [\"code\", \"smod\", \"pop_primary_school_age\", \"pop_secondary_school_age\"]\n",
    "].copy()\n",
    "plot_data = plot_data.melt(\n",
    "    id_vars=[\"code\", \"smod\"],\n",
    "    value_vars=[\"pop_primary_school_age\", \"pop_secondary_school_age\"],\n",
    "    var_name=\"Age Group\",\n",
    "    value_name=\"Population\",\n",
    ")\n",
    "\n",
    "# Create the bar plot\n",
    "plt.figure(figsize=(12, 6))\n",
    "sns.barplot(\n",
    "    data=plot_data,\n",
    "    x=\"smod\",\n",
    "    y=\"Population\",\n",
    "    hue=\"Age Group\",\n",
    "    ci=None,\n",
    "    estimator=sum,\n",
    "    dodge=True,\n",
    ")\n",
    "\n",
    "# Customize the plot\n",
    "plt.title(\n",
    "    \"Distribution of Population in Primary and Secondary School Age per Country per SMOD\"\n",
    ")\n",
    "plt.xlabel(\"Country Code\")\n",
    "plt.ylabel(\"Total Population\")\n",
    "plt.legend(title=\"Age Group\")\n",
    "plt.xticks(rotation=45)\n",
    "plt.tight_layout()\n",
    "\n",
    "# Show the plot\n",
    "plt.show()"
   ]
  },
  {
   "cell_type": "code",
   "execution_count": null,
   "metadata": {},
   "outputs": [],
   "source": [
    "peru_pop_data_proc = pd.read_parquet(\"peru_worldpop_school_age_celdas.parquet\")"
   ]
  },
  {
   "cell_type": "code",
   "execution_count": null,
   "metadata": {},
   "outputs": [],
   "source": [
    "peru_pop_data_proc.shape"
   ]
  },
  {
   "cell_type": "code",
   "execution_count": null,
   "metadata": {},
   "outputs": [],
   "source": [
    "cells_pop_bol[\"pop_2020_f_5\"].isna().sum()"
   ]
  },
  {
   "cell_type": "code",
   "execution_count": null,
   "metadata": {},
   "outputs": [],
   "source": [
    "countries_geodata[\"per\"] = peru_pop_data_proca"
   ]
  },
  {
   "cell_type": "code",
   "execution_count": null,
   "metadata": {},
   "outputs": [],
   "source": [
    "# Clean the data by dropping NaN values for each column\n",
    "clean_dfs_per = []\n",
    "for col in countries_geodata[\"per\"].columns:\n",
    "    clean_dfs_per.append(countries_geodata[\"per\"][col].dropna())\n",
    "\n",
    "# Combine the cleaned data into a single DataFrame\n",
    "clean_dfs_per = pd.concat(clean_dfs_per, axis=1)\n",
    "\n",
    "# Merge the cleaned data with the grid data for Peru\n",
    "celdas_per = gdf_celdas_countries[gdf_celdas_countries[\"code\"] == \"per\"]\n",
    "celdas_per_with_pop = celdas_per.merge(\n",
    "    clean_dfs_per,\n",
    "    how=\"left\",\n",
    "    left_on=\"cell_id\",\n",
    "    right_index=True,\n",
    ")\n",
    "\n",
    "# Prepare the data for plotting\n",
    "plot_data_per = celdas_per_with_pop[\n",
    "    [\n",
    "        \"code\",\n",
    "        \"smod\",\n",
    "        \"pop_2020_m_5\",\n",
    "        \"pop_2020_f_5\",\n",
    "        \"pop_2020_m_10\",\n",
    "        \"pop_2020_f_10\",\n",
    "        \"pop_2020_m_15\",\n",
    "        \"pop_2020_f_15\",\n",
    "    ]\n",
    "].copy()\n",
    "plot_data_per[\"pop_primary_school_age\"] = (\n",
    "    plot_data_per[\"pop_2020_m_5\"] + plot_data_per[\"pop_2020_f_5\"]\n",
    ")\n",
    "plot_data_per[\"pop_secondary_school_age\"] = (\n",
    "    plot_data_per[\"pop_2020_m_10\"]\n",
    "    + plot_data_per[\"pop_2020_f_10\"]\n",
    "    + plot_data_per[\"pop_2020_m_15\"]\n",
    "    + plot_data_per[\"pop_2020_f_15\"]\n",
    ")\n",
    "plot_data_per = plot_data_per.melt(\n",
    "    id_vars=[\"code\", \"smod\"],\n",
    "    value_vars=[\"pop_primary_school_age\", \"pop_secondary_school_age\"],\n",
    "    var_name=\"Age Group\",\n",
    "    value_name=\"Population\",\n",
    ")\n",
    "\n",
    "# Create the bar plot\n",
    "plt.figure(figsize=(12, 6))\n",
    "sns.barplot(\n",
    "    data=plot_data_per,\n",
    "    x=\"smod\",\n",
    "    y=\"Population\",\n",
    "    hue=\"Age Group\",\n",
    "    ci=None,\n",
    "    estimator=sum,\n",
    "    dodge=True,\n",
    ")\n",
    "\n",
    "# Customize the plot\n",
    "plt.title(\n",
    "    \"Distribution of Population in Primary and Secondary School Age per Country per SMOD (Peru)\"\n",
    ")\n",
    "plt.xlabel(\"Settlement Type (SMOD)\")\n",
    "plt.ylabel(\"Total Population\")\n",
    "plt.legend(title=\"Age Group\")\n",
    "plt.xticks(rotation=45)\n",
    "plt.tight_layout()\n",
    "\n",
    "# Show the plot\n",
    "plt.show()"
   ]
  },
  {
   "cell_type": "code",
   "execution_count": null,
   "metadata": {},
   "outputs": [],
   "source": []
  },
  {
   "cell_type": "code",
   "execution_count": null,
   "metadata": {},
   "outputs": [],
   "source": [
    "# Extract the population data for Colombia\n",
    "cells_pop_col = countries_geodata[\"col\"]"
   ]
  },
  {
   "cell_type": "code",
   "execution_count": null,
   "metadata": {},
   "outputs": [],
   "source": [
    "# Clean the data by dropping NaN values for each column\n",
    "clean_dfs_col = []\n",
    "for col in cells_pop_col.columns:\n",
    "    clean_dfs_col.append(cells_pop_col[col].dropna())"
   ]
  },
  {
   "cell_type": "code",
   "execution_count": null,
   "metadata": {},
   "outputs": [],
   "source": [
    "# Combine the cleaned data into a single DataFrame\n",
    "clean_dfs_col = pd.concat(clean_dfs_col, axis=1)"
   ]
  },
  {
   "cell_type": "code",
   "execution_count": null,
   "metadata": {},
   "outputs": [],
   "source": [
    "# Merge the cleaned data with the grid data for Colombia\n",
    "celdas_col = gdf_celdas_countries[gdf_celdas_countries[\"code\"] == \"col\"]\n",
    "celdas_col_with_pop = celdas_col.merge(\n",
    "    clean_dfs_col,\n",
    "    how=\"left\",\n",
    "    left_on=\"cell_id\",\n",
    "    right_index=True,\n",
    ")"
   ]
  },
  {
   "cell_type": "code",
   "execution_count": null,
   "metadata": {},
   "outputs": [],
   "source": [
    "# Prepare the data for plotting\n",
    "plot_data_col = celdas_col_with_pop[\n",
    "    [\n",
    "        \"code\",\n",
    "        \"smod\",\n",
    "        \"pop_2020_m_5\",\n",
    "        \"pop_2020_f_5\",\n",
    "        \"pop_2020_m_10\",\n",
    "        \"pop_2020_f_10\",\n",
    "        \"pop_2020_m_15\",\n",
    "        \"pop_2020_f_15\",\n",
    "    ]\n",
    "].copy()\n",
    "plot_data_col[\"pop_primary_school_age\"] = (\n",
    "    plot_data_col[\"pop_2020_m_5\"] + plot_data_col[\"pop_2020_f_5\"]\n",
    ")\n",
    "plot_data_col[\"pop_secondary_school_age\"] = (\n",
    "    plot_data_col[\"pop_2020_m_10\"]\n",
    "    + plot_data_col[\"pop_2020_f_10\"]\n",
    "    + plot_data_col[\"pop_2020_m_15\"]\n",
    "    + plot_data_col[\"pop_2020_f_15\"]\n",
    ")\n",
    "plot_data_col = plot_data_col.melt(\n",
    "    id_vars=[\"code\", \"smod\"],\n",
    "    value_vars=[\"pop_primary_school_age\", \"pop_secondary_school_age\"],\n",
    "    var_name=\"Age Group\",\n",
    "    value_name=\"Population\",\n",
    ")"
   ]
  },
  {
   "cell_type": "code",
   "execution_count": null,
   "metadata": {},
   "outputs": [],
   "source": [
    "# Create the bar plot\n",
    "plt.figure(figsize=(12, 6))\n",
    "sns.barplot(\n",
    "    data=plot_data_col,\n",
    "    x=\"smod\",\n",
    "    y=\"Population\",\n",
    "    hue=\"Age Group\",\n",
    "    ci=None,\n",
    "    estimator=sum,\n",
    "    dodge=True,\n",
    ")\n",
    "\n",
    "# Customize the plot\n",
    "plt.title(\n",
    "    \"Distribution of Population in Primary and Secondary School Age per Country per SMOD (Colombia)\"\n",
    ")\n",
    "plt.xlabel(\"Settlement Type (SMOD)\")\n",
    "plt.ylabel(\"Total Population\")\n",
    "plt.legend(title=\"Age Group\")\n",
    "plt.xticks(rotation=45)\n",
    "plt.tight_layout()\n",
    "\n",
    "# Show the plot\n",
    "plt.show()"
   ]
  },
  {
   "cell_type": "code",
   "execution_count": null,
   "metadata": {},
   "outputs": [],
   "source": [
    "# Clean the data by dropping NaN values for each column\n",
    "clean_dfs_ecu = []\n",
    "for col in countries_geodata[\"ecu\"].columns:\n",
    "    clean_dfs_ecu.append(countries_geodata[\"ecu\"][col].dropna())\n",
    "\n",
    "# Combine the cleaned data into a single DataFrame\n",
    "clean_dfs_ecu = pd.concat(clean_dfs_ecu, axis=1)\n",
    "\n",
    "# Merge the cleaned data with the grid data for Ecuador\n",
    "celdas_ecu = gdf_celdas_countries[gdf_celdas_countries[\"code\"] == \"ecu\"]\n",
    "celdas_ecu_with_pop = celdas_ecu.merge(\n",
    "    clean_dfs_ecu,\n",
    "    how=\"left\",\n",
    "    left_on=\"cell_id\",\n",
    "    right_index=True,\n",
    ")\n",
    "\n",
    "# Prepare the data for plotting\n",
    "plot_data_ecu = celdas_ecu_with_pop[\n",
    "    [\n",
    "        \"code\",\n",
    "        \"smod\",\n",
    "        \"pop_2020_m_5\",\n",
    "        \"pop_2020_f_5\",\n",
    "        \"pop_2020_m_10\",\n",
    "        \"pop_2020_f_10\",\n",
    "        \"pop_2020_m_15\",\n",
    "        \"pop_2020_f_15\",\n",
    "    ]\n",
    "].copy()\n",
    "plot_data_ecu[\"pop_primary_school_age\"] = (\n",
    "    plot_data_ecu[\"pop_2020_m_5\"] + plot_data_ecu[\"pop_2020_f_5\"]\n",
    ")\n",
    "plot_data_ecu[\"pop_secondary_school_age\"] = (\n",
    "    plot_data_ecu[\"pop_2020_m_10\"]\n",
    "    + plot_data_ecu[\"pop_2020_f_10\"]\n",
    "    + plot_data_ecu[\"pop_2020_m_15\"]\n",
    "    + plot_data_ecu[\"pop_2020_f_15\"]\n",
    ")\n",
    "plot_data_ecu = plot_data_ecu.melt(\n",
    "    id_vars=[\"code\", \"smod\"],\n",
    "    value_vars=[\"pop_primary_school_age\", \"pop_secondary_school_age\"],\n",
    "    var_name=\"Age Group\",\n",
    "    value_name=\"Population\",\n",
    ")\n",
    "\n",
    "# Create the bar plot\n",
    "plt.figure(figsize=(12, 6))\n",
    "sns.barplot(\n",
    "    data=plot_data_ecu,\n",
    "    x=\"smod\",\n",
    "    y=\"Population\",\n",
    "    hue=\"Age Group\",\n",
    "    ci=None,\n",
    "    estimator=sum,\n",
    "    dodge=True,\n",
    ")\n",
    "\n",
    "# Customize the plot\n",
    "plt.title(\n",
    "    \"Distribution of Population in Primary and Secondary School Age per Country per SMOD (Ecuador)\"\n",
    ")\n",
    "plt.xlabel(\"Settlement Type (SMOD)\")\n",
    "plt.ylabel(\"Total Population\")\n",
    "plt.legend(title=\"Age Group\")\n",
    "plt.xticks(rotation=45)\n",
    "plt.tight_layout()\n",
    "\n",
    "# Show the plot\n",
    "plt.show()"
   ]
  },
  {
   "cell_type": "code",
   "execution_count": null,
   "metadata": {},
   "outputs": [],
   "source": []
  },
  {
   "cell_type": "code",
   "execution_count": null,
   "metadata": {},
   "outputs": [],
   "source": []
  },
  {
   "cell_type": "code",
   "execution_count": null,
   "metadata": {},
   "outputs": [],
   "source": [
    "cells_pop_bol[\"pop_2020_f_5\"].isna().sum()"
   ]
  },
  {
   "cell_type": "code",
   "execution_count": null,
   "metadata": {},
   "outputs": [],
   "source": [
    "cells_pop_bol[\"pop_2020_f_10\"].isna().sum()"
   ]
  },
  {
   "cell_type": "code",
   "execution_count": null,
   "metadata": {},
   "outputs": [],
   "source": [
    "cells_pop_bol[\"pop_2020_f_15\"].isna().sum()"
   ]
  },
  {
   "cell_type": "code",
   "execution_count": null,
   "metadata": {},
   "outputs": [],
   "source": [
    "countries_geodata[\"bol\"].shape"
   ]
  },
  {
   "cell_type": "code",
   "execution_count": null,
   "metadata": {},
   "outputs": [],
   "source": [
    "xds_clipped"
   ]
  },
  {
   "cell_type": "code",
   "execution_count": null,
   "metadata": {},
   "outputs": [],
   "source": [
    "celdas_country"
   ]
  },
  {
   "cell_type": "code",
   "execution_count": null,
   "metadata": {},
   "outputs": [],
   "source": [
    "fig, ax = plt.subplots()\n",
    "\n",
    "\n",
    "xds_clipped.squeeze().plot.imshow(\n",
    "    ax=ax,\n",
    "    cmap=\"viridis\",\n",
    "    add_colorbar=True,\n",
    "    cbar_kwargs={\"label\": \"Population\"},\n",
    ")\n",
    "\n",
    "celdas_country.plot(\n",
    "    ax=ax,\n",
    "    color=\"red\",\n",
    "    alpha=0.5,\n",
    ")\n",
    "\n",
    "plt.show()"
   ]
  },
  {
   "cell_type": "code",
   "execution_count": null,
   "metadata": {},
   "outputs": [],
   "source": [
    "celdas_country.head()"
   ]
  },
  {
   "cell_type": "code",
   "execution_count": null,
   "metadata": {},
   "outputs": [],
   "source": [
    "celdas_country.info()"
   ]
  },
  {
   "cell_type": "code",
   "execution_count": null,
   "metadata": {},
   "outputs": [],
   "source": [
    "celdas_country[\"cell_id\"] = celdas_country[\"cell_id\"].astype(float)"
   ]
  },
  {
   "cell_type": "code",
   "execution_count": null,
   "metadata": {},
   "outputs": [],
   "source": [
    "celdas_country.shape"
   ]
  },
  {
   "cell_type": "code",
   "execution_count": null,
   "metadata": {},
   "outputs": [],
   "source": [
    "celdas_country[\"cell_id\"].unique().shape"
   ]
  },
  {
   "cell_type": "code",
   "execution_count": null,
   "metadata": {},
   "outputs": [],
   "source": [
    "xds_mask = make_geocube(\n",
    "    vector_data=celdas_country[[\"cell_id\", \"geometry\"]],\n",
    "    # measurements=[\"cell_id\"],\n",
    "    like=xds_clipped,\n",
    "    fill=0,\n",
    ")\n",
    "xds_mask"
   ]
  },
  {
   "cell_type": "code",
   "execution_count": null,
   "metadata": {},
   "outputs": [],
   "source": [
    "# Add a new dimension to the mask for the population using the clipped raster\n",
    "xds_clipped_squeezed = xds_clipped.squeeze()\n",
    "xds_mask[pop_col] = (\n",
    "    xds_clipped_squeezed.dims,\n",
    "    xds_clipped_squeezed.values,\n",
    "    xds_clipped_squeezed.attrs,\n",
    "    xds_clipped_squeezed.encoding,\n",
    ")\n",
    "xds_mask"
   ]
  },
  {
   "cell_type": "code",
   "execution_count": null,
   "metadata": {},
   "outputs": [],
   "source": [
    "# Now we can calculate the total population in each cell and add it back to the geodataframe\n",
    "agg_pop = (\n",
    "    xds_mask.drop_vars(\"spatial_ref\").groupby(xds_mask.cell_id).sum().to_dataframe()\n",
    ")"
   ]
  },
  {
   "cell_type": "code",
   "execution_count": null,
   "metadata": {},
   "outputs": [],
   "source": [
    "import dask"
   ]
  },
  {
   "cell_type": "code",
   "execution_count": null,
   "metadata": {},
   "outputs": [],
   "source": [
    "# Now we can calculate the total population in each cell and add it back to the geodataframe\n",
    "agg_pop_1 = (\n",
    "    xds_mask.drop_vars(\"spatial_ref\").groupby(xds_mask.cell_id).sum().to_dataframe()\n",
    ")"
   ]
  },
  {
   "cell_type": "code",
   "execution_count": null,
   "metadata": {},
   "outputs": [],
   "source": [
    "agg_pop.shape, celdas_country.shape"
   ]
  },
  {
   "cell_type": "code",
   "execution_count": null,
   "metadata": {},
   "outputs": [],
   "source": [
    "population_data.append(agg_pop)\n",
    "\n",
    "countries_geodata[country] = pd.concat(population_data)"
   ]
  },
  {
   "cell_type": "code",
   "execution_count": null,
   "metadata": {},
   "outputs": [],
   "source": [
    "plotly.offline.init_notebook_mode()"
   ]
  },
  {
   "cell_type": "code",
   "execution_count": null,
   "metadata": {},
   "outputs": [],
   "source": [
    "fig = up.plotting.choropleth_map(\n",
    "    peru_access,\n",
    "    \"pop_2020\",\n",
    "    title=\"Estimated Population - 2020\",\n",
    "    opacity=0.5,\n",
    "    width=800,\n",
    "    height=800,\n",
    ")\n",
    "\n",
    "# Make space for the title\n",
    "fig.update_layout(margin=dict(l=0, r=0, b=0, t=40))\n",
    "\n",
    "fig.show()"
   ]
  },
  {
   "cell_type": "code",
   "execution_count": null,
   "metadata": {},
   "outputs": [],
   "source": [
    "# Get ordered category labels\n",
    "category_orders = (\n",
    "    huancabamba_access[\"duration_to_nearest_schools_label\"].unique().sort_values()\n",
    ")\n",
    "category_orders.categories"
   ]
  },
  {
   "cell_type": "code",
   "execution_count": null,
   "metadata": {},
   "outputs": [],
   "source": [
    "fig = up.plotting.choropleth_map(\n",
    "    peru_access,\n",
    "    color_column=\"duration_to_nearest_schools_label\",\n",
    "    color_discrete_sequence=px.colors.sequential.Plasma_r,\n",
    "    category_orders={\"duration_to_nearest_schools_label\": category_orders},\n",
    "    opacity=0.5,\n",
    "    labels={\"duration_to_nearest_schools_label\": \"Minutes\"},\n",
    "    title=\"Travel Time to Nearest School\",\n",
    "    width=800,\n",
    "    height=800,\n",
    ")\n",
    "\n",
    "# Make space for the title\n",
    "fig.update_layout(margin=dict(l=0, r=0, b=0, t=40))\n",
    "\n",
    "# Remove the hexagon outlines to make the map clearer\n",
    "fig.update_traces(marker_line_width=0)\n",
    "\n",
    "fig.show()"
   ]
  },
  {
   "cell_type": "code",
   "execution_count": null,
   "metadata": {},
   "outputs": [],
   "source": []
  }
 ],
 "metadata": {
  "kernelspec": {
   "display_name": "bid-amazonia-pop-centers",
   "language": "python",
   "name": "python3"
  },
  "language_info": {
   "codemirror_mode": {
    "name": "ipython",
    "version": 3
   },
   "file_extension": ".py",
   "mimetype": "text/x-python",
   "name": "python",
   "nbconvert_exporter": "python",
   "pygments_lexer": "ipython3",
   "version": "3.12.10"
  }
 },
 "nbformat": 4,
 "nbformat_minor": 2
}
