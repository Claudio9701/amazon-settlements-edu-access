{
 "cells": [
  {
   "cell_type": "code",
   "execution_count": null,
   "metadata": {},
   "outputs": [],
   "source": [
    "import matplotlib.pyplot as plt\n",
    "import pandas as pd\n",
    "import geopandas as gpd\n",
    "from tqdm.notebook import tqdm"
   ]
  },
  {
   "cell_type": "code",
   "execution_count": null,
   "metadata": {},
   "outputs": [],
   "source": [
    "tqdm.pandas()"
   ]
  },
  {
   "cell_type": "code",
   "execution_count": null,
   "metadata": {},
   "outputs": [],
   "source": [
    "# Read the combined cells with access variables\n",
    "gdf_cells_access = gpd.read_parquet(\"outputs/celdas_combined_access_v3.parquet\")\n",
    "gdf_cells_access_br = gpd.read_parquet(\"outputs/celdas_combined_bra_access_v3.parquet\")"
   ]
  },
  {
   "cell_type": "code",
   "execution_count": null,
   "metadata": {},
   "outputs": [],
   "source": [
    "gdf_cells_access.info()"
   ]
  },
  {
   "cell_type": "code",
   "execution_count": null,
   "metadata": {},
   "outputs": [],
   "source": [
    "gdf_cells_access.head()"
   ]
  },
  {
   "cell_type": "code",
   "execution_count": null,
   "metadata": {},
   "outputs": [],
   "source": [
    "gdf_cells_access_br.head()"
   ]
  },
  {
   "cell_type": "code",
   "execution_count": null,
   "metadata": {},
   "outputs": [],
   "source": [
    "gdf_cells_access_br = gdf_cells_access_br.drop(\"index\", axis=1)"
   ]
  },
  {
   "cell_type": "code",
   "execution_count": null,
   "metadata": {},
   "outputs": [],
   "source": [
    "gdf_cells_access_br.columns"
   ]
  },
  {
   "cell_type": "code",
   "execution_count": null,
   "metadata": {},
   "outputs": [],
   "source": [
    "gdf_cells_access.columns"
   ]
  },
  {
   "cell_type": "code",
   "execution_count": null,
   "metadata": {},
   "outputs": [],
   "source": [
    "filter_cols = [\n",
    "    # Cell variables\n",
    "    \"cell_id\",\n",
    "    \"polygon_id\",\n",
    "    \"smod\",  # urbanization degree\n",
    "    \"category\",  # urbanization category\n",
    "    \"code\",  # country\n",
    "    \"lon\",\n",
    "    \"lat\",  # cell centroid\n",
    "    \"geometry\",  # cell polygon\n",
    "    # Accessibility to primary schools\n",
    "    \"nearest_primary_schools_ix\",\n",
    "    \"distance_to_nearest_primary_schools\",\n",
    "    \"duration_to_nearest_primary_schools\",\n",
    "    \"duration_to_nearest_primary_schools_label\",\n",
    "    \"id_edificio\",\n",
    "    \"lat_primary_school\",\n",
    "    \"lon_primary_school\",\n",
    "    # Acessibility to middle schools\n",
    "    \"nearest_middle_schools_ix\",\n",
    "    \"distance_to_nearest_middle_schools\",\n",
    "    \"duration_to_nearest_middle_schools\",\n",
    "    \"duration_to_nearest_middle_schools_label\",\n",
    "    \"id_edificio_middle_school\",\n",
    "    \"lat_middle_school\",\n",
    "    \"lon_middle_school\",\n",
    "    # Acessibility to secondary schools\n",
    "    \"nearest_secondary_schools_ix\",\n",
    "    \"distance_to_nearest_secondary_schools\",\n",
    "    \"duration_to_nearest_secondary_schools\",\n",
    "    \"duration_to_nearest_secondary_schools_label\",\n",
    "    \"id_edificio_secondary_school\",\n",
    "    \"lat_secondary_school\",\n",
    "    \"lon_secondary_school\",\n",
    "]"
   ]
  },
  {
   "cell_type": "code",
   "execution_count": null,
   "metadata": {},
   "outputs": [],
   "source": [
    "gdf_cells_access_concat = pd.concat(\n",
    "    [gdf_cells_access[filter_cols], gdf_cells_access_br[filter_cols]], ignore_index=True\n",
    ")"
   ]
  },
  {
   "cell_type": "code",
   "execution_count": null,
   "metadata": {},
   "outputs": [],
   "source": [
    "gdf_cells_access_concat.columns"
   ]
  },
  {
   "cell_type": "code",
   "execution_count": null,
   "metadata": {},
   "outputs": [],
   "source": [
    "# Read the combined cells with the worldpop variables\n",
    "gdf_cells_pop = gpd.read_parquet(\"outputs/celdas_combined_pop.parquet\")\n",
    "gdf_cells_pop_bra = gpd.read_parquet(\n",
    "    \"outputs/brazil_worldpop_school_age_celdas.parquet\"\n",
    ")"
   ]
  },
  {
   "cell_type": "code",
   "execution_count": null,
   "metadata": {},
   "outputs": [],
   "source": [
    "gdf_cells_pop.info()"
   ]
  },
  {
   "cell_type": "code",
   "execution_count": null,
   "metadata": {},
   "outputs": [],
   "source": [
    "gdf_cells_pop.columns"
   ]
  },
  {
   "cell_type": "code",
   "execution_count": null,
   "metadata": {},
   "outputs": [],
   "source": [
    "gdf_cells_pop[\n",
    "    [\n",
    "        \"pop_2020_m_5\",\n",
    "        \"pop_2020_m_10\",\n",
    "        \"pop_2020_m_15\",\n",
    "        \"pop_2020_f_5\",\n",
    "        \"pop_2020_f_10\",\n",
    "        \"pop_2020_f_15\",\n",
    "    ]\n",
    "]"
   ]
  },
  {
   "cell_type": "code",
   "execution_count": null,
   "metadata": {},
   "outputs": [],
   "source": [
    "gdf_cells_pop.head()"
   ]
  },
  {
   "cell_type": "code",
   "execution_count": null,
   "metadata": {},
   "outputs": [],
   "source": [
    "gdf_cells_pop_bra.head()"
   ]
  },
  {
   "cell_type": "code",
   "execution_count": null,
   "metadata": {},
   "outputs": [],
   "source": [
    "gdf_cells_pop.columns"
   ]
  },
  {
   "cell_type": "code",
   "execution_count": null,
   "metadata": {},
   "outputs": [],
   "source": [
    "gdf_cells_pop_bra[\"polygon_id\"] = range(1000000, 1000000 + len(gdf_cells_pop_bra))"
   ]
  },
  {
   "cell_type": "code",
   "execution_count": null,
   "metadata": {},
   "outputs": [],
   "source": [
    "gdf_cells_pop_bra = gdf_cells_pop_bra.rename({\"code\": \"country\"}, axis=1)"
   ]
  },
  {
   "cell_type": "code",
   "execution_count": null,
   "metadata": {},
   "outputs": [],
   "source": [
    "gdf_cells_pop_bra.columns"
   ]
  },
  {
   "cell_type": "code",
   "execution_count": null,
   "metadata": {},
   "outputs": [],
   "source": [
    "gdf_cells_pop_concat = pd.concat(\n",
    "    [gdf_cells_pop[gdf_cells_pop_bra.columns], gdf_cells_pop_bra], ignore_index=True\n",
    ")"
   ]
  },
  {
   "cell_type": "markdown",
   "metadata": {},
   "source": [
    "### IMPORTANT\n",
    "\n",
    "Date: 04 Jun 2025\n",
    "\n",
    "We are splitting the population in secondary in middel and secondary.\n",
    "\n",
    "### Population Split\n",
    "\n",
    "Middle: Population between 10 and 15 yo  \n",
    "Secondary: Population between 15 and 20 yo\n"
   ]
  },
  {
   "cell_type": "code",
   "execution_count": null,
   "metadata": {},
   "outputs": [],
   "source": [
    "gdf_cells_pop_concat.columns"
   ]
  },
  {
   "cell_type": "code",
   "execution_count": null,
   "metadata": {},
   "outputs": [],
   "source": [
    "gdf_cells_pop_concat[\"pop_secondary_school_age\"] = gdf_cells_pop_concat[\n",
    "    [\"pop_2020_m_15\", \"pop_2020_f_10\"]\n",
    "].sum(axis=1)\n",
    "gdf_cells_pop_concat[\"pop_middle_school_age\"] = gdf_cells_pop_concat[\n",
    "    [\"pop_2020_m_10\", \"pop_2020_f_10\"]\n",
    "].sum(axis=1)"
   ]
  },
  {
   "cell_type": "code",
   "execution_count": null,
   "metadata": {},
   "outputs": [],
   "source": [
    "index_col = [\"cell_id\"]\n",
    "common_cols = [\"smod\", \"polygon_id\", \"geometry\", \"country\"]\n",
    "access_cols = [\n",
    "    \"lat\",\n",
    "    \"lon\",\n",
    "    \"category\",  # urbanization category (new in v3)\n",
    "    \"nearest_primary_schools_ix\",\n",
    "    \"distance_to_nearest_primary_schools\",\n",
    "    \"duration_to_nearest_primary_schools\",\n",
    "    \"duration_to_nearest_primary_schools_label\",\n",
    "    \"id_edificio\",\n",
    "    \"lat_primary_school\",\n",
    "    \"lon_primary_school\",\n",
    "    \"nearest_middle_schools_ix\",\n",
    "    \"distance_to_nearest_middle_schools\",\n",
    "    \"duration_to_nearest_middle_schools\",\n",
    "    \"duration_to_nearest_middle_schools_label\",\n",
    "    \"id_edificio_middle_school\",\n",
    "    \"lat_middle_school\",\n",
    "    \"lon_middle_school\",\n",
    "    \"nearest_secondary_schools_ix\",\n",
    "    \"distance_to_nearest_secondary_schools\",\n",
    "    \"duration_to_nearest_secondary_schools\",\n",
    "    \"duration_to_nearest_secondary_schools_label\",\n",
    "    \"id_edificio_secondary_school\",\n",
    "    \"lat_secondary_school\",\n",
    "    \"lon_secondary_school\",\n",
    "]\n",
    "pop_cols = [\n",
    "    \"pop_2020_m_5\",\n",
    "    \"pop_2020_f_5\",\n",
    "    \"pop_2020_m_10\",\n",
    "    \"pop_2020_f_10\",\n",
    "    \"pop_2020_m_15\",\n",
    "    \"pop_2020_f_15\",\n",
    "    \"pop_m\",\n",
    "    \"pop_f\",\n",
    "    \"pop_total\",\n",
    "    \"pop_primary_school_age\",\n",
    "    \"pop_middle_school_age\",\n",
    "    \"pop_secondary_school_age\",\n",
    "]"
   ]
  },
  {
   "cell_type": "code",
   "execution_count": null,
   "metadata": {},
   "outputs": [],
   "source": [
    "gdf_cells_pop_concat"
   ]
  },
  {
   "cell_type": "code",
   "execution_count": null,
   "metadata": {},
   "outputs": [],
   "source": [
    "gdf_cells_access_concat[\"polygon_id\"].head()"
   ]
  },
  {
   "cell_type": "code",
   "execution_count": null,
   "metadata": {},
   "outputs": [],
   "source": [
    "gdf_cells_access_concat[\"polygon_id\"].tail()"
   ]
  },
  {
   "cell_type": "code",
   "execution_count": null,
   "metadata": {},
   "outputs": [],
   "source": [
    "gdf_cells_pop_concat[\"polygon_id\"].head()"
   ]
  },
  {
   "cell_type": "code",
   "execution_count": null,
   "metadata": {},
   "outputs": [],
   "source": [
    "gdf_cells_pop_concat[\"polygon_id\"].tail()"
   ]
  },
  {
   "cell_type": "code",
   "execution_count": null,
   "metadata": {},
   "outputs": [],
   "source": [
    "gdf_cells_access_concat[\"cell_id\"] = gdf_cells_access_concat[\"cell_id\"].astype(\"int32\")\n",
    "gdf_cells_pop_concat[\"cell_id\"] = gdf_cells_pop_concat[\"cell_id\"].astype(\"int32\")"
   ]
  },
  {
   "cell_type": "code",
   "execution_count": null,
   "metadata": {},
   "outputs": [],
   "source": [
    "gdf_cells_access_concat"
   ]
  },
  {
   "cell_type": "code",
   "execution_count": null,
   "metadata": {},
   "outputs": [],
   "source": [
    "# Combine the two datasets using the index_col\n",
    "gdf_combined = gdf_cells_access_concat[index_col + access_cols].merge(\n",
    "    gdf_cells_pop_concat[index_col + common_cols + pop_cols],\n",
    "    on=index_col,\n",
    "    suffixes=(\"_access\", \"_pop\"),\n",
    ")\n",
    "\n",
    "# Display the combined dataset\n",
    "gdf_combined.head()"
   ]
  },
  {
   "cell_type": "code",
   "execution_count": null,
   "metadata": {},
   "outputs": [],
   "source": [
    "celdas_original = gpd.read_file(\n",
    "    \"inputs/Asentamientos humanos 2/Polígonos/Nuevos/Educación/CELDAS.gpkg\"\n",
    ")\n",
    "celdas_original.shape"
   ]
  },
  {
   "cell_type": "code",
   "execution_count": null,
   "metadata": {},
   "outputs": [],
   "source": [
    "len(celdas_original.polygon_id.unique())"
   ]
  },
  {
   "cell_type": "code",
   "execution_count": null,
   "metadata": {},
   "outputs": [],
   "source": [
    "celdas_original[\"pop_2020\"].sum()"
   ]
  },
  {
   "cell_type": "code",
   "execution_count": null,
   "metadata": {},
   "outputs": [],
   "source": [
    "celdas_original.drop_duplicates(subset=\"polygon_id\")[\"pop_2020\"].sum()"
   ]
  },
  {
   "cell_type": "code",
   "execution_count": null,
   "metadata": {},
   "outputs": [],
   "source": [
    "celdas_original.columns"
   ]
  },
  {
   "cell_type": "code",
   "execution_count": null,
   "metadata": {},
   "outputs": [],
   "source": [
    "# 333 804 798 <--- celdas originales con polygon_id duplicados\n",
    "#  38 028 451 <--- celdas originales sin polygon_id duplicados\n",
    "#  48 359 084 <--- celdas corregidas con polygon_id duplicados\n",
    "#   5 241 000 <--- celdas corregidas sin polygon_id duplicados\n",
    "# 211.9M in 2020 en todo brazil segun el IBGE"
   ]
  },
  {
   "cell_type": "code",
   "execution_count": null,
   "metadata": {},
   "outputs": [],
   "source": [
    "gdf_combined[\"polygon_id\"] = gdf_combined[\"polygon_id\"].astype(str)"
   ]
  },
  {
   "cell_type": "code",
   "execution_count": null,
   "metadata": {},
   "outputs": [],
   "source": [
    "gdf_combined = gpd.GeoDataFrame(gdf_combined)"
   ]
  },
  {
   "cell_type": "code",
   "execution_count": null,
   "metadata": {},
   "outputs": [],
   "source": [
    "gdf_combined.crs"
   ]
  },
  {
   "cell_type": "code",
   "execution_count": null,
   "metadata": {},
   "outputs": [],
   "source": [
    "gdf_combined.to_parquet(\"outputs/celdas_pop_distance_complete_v3.parquet\", index=False)"
   ]
  },
  {
   "cell_type": "code",
   "execution_count": null,
   "metadata": {},
   "outputs": [],
   "source": [
    "gdf_combined.shape[0], gdf_cells_access_concat.shape[0], gdf_cells_pop_concat.shape[0]"
   ]
  },
  {
   "cell_type": "code",
   "execution_count": null,
   "metadata": {},
   "outputs": [],
   "source": [
    "gdf_combined.columns"
   ]
  },
  {
   "cell_type": "code",
   "execution_count": null,
   "metadata": {},
   "outputs": [],
   "source": [
    "gdf_combined = gpd.GeoDataFrame(\n",
    "    gdf_combined, geometry=gdf_combined.geometry, crs=gdf_cells_access.crs\n",
    ")"
   ]
  },
  {
   "cell_type": "code",
   "execution_count": null,
   "metadata": {},
   "outputs": [],
   "source": [
    "gdf_combined[\"polygon_id\"] = gdf_combined[\"polygon_id\"].astype(str)"
   ]
  },
  {
   "cell_type": "code",
   "execution_count": null,
   "metadata": {},
   "outputs": [],
   "source": [
    "gdf_combined.to_file(\n",
    "    \"outputs/celdas_pop_distance_complete_v3.geojson\", driver=\"GeoJSON\", index=False\n",
    ")"
   ]
  },
  {
   "cell_type": "code",
   "execution_count": null,
   "metadata": {},
   "outputs": [],
   "source": [
    "gdf_combined.to_parquet(\"outputs/celdas_pop_distance_complete_v3.parquet\", index=False)"
   ]
  },
  {
   "cell_type": "code",
   "execution_count": null,
   "metadata": {},
   "outputs": [],
   "source": [
    "gdf_combined_stats = gdf_combined[\n",
    "    [\n",
    "        \"cell_id\",\n",
    "        \"category\",  # urbanization category\n",
    "        \"country\",\n",
    "        \"pop_total\",\n",
    "        \"pop_primary_school_age\",\n",
    "        \"pop_middle_school_age\",\n",
    "        \"pop_secondary_school_age\",\n",
    "        \"distance_to_nearest_primary_schools\",\n",
    "        \"duration_to_nearest_primary_schools\",\n",
    "        \"duration_to_nearest_primary_schools_label\",\n",
    "        \"distance_to_nearest_middle_schools\",\n",
    "        \"duration_to_nearest_middle_schools\",\n",
    "        \"duration_to_nearest_middle_schools_label\",\n",
    "        \"distance_to_nearest_secondary_schools\",\n",
    "        \"duration_to_nearest_secondary_schools\",\n",
    "        \"duration_to_nearest_secondary_schools_label\",\n",
    "    ]\n",
    "]"
   ]
  },
  {
   "cell_type": "code",
   "execution_count": null,
   "metadata": {},
   "outputs": [],
   "source": [
    "from ydata_profiling import ProfileReport"
   ]
  },
  {
   "cell_type": "code",
   "execution_count": null,
   "metadata": {},
   "outputs": [],
   "source": [
    "profile = ProfileReport(gdf_combined_stats, title=\"Data Report\")"
   ]
  },
  {
   "cell_type": "code",
   "execution_count": null,
   "metadata": {},
   "outputs": [],
   "source": [
    "profile.to_file(\"outputs/data_report.html\")"
   ]
  },
  {
   "cell_type": "code",
   "execution_count": null,
   "metadata": {},
   "outputs": [],
   "source": [
    "gdf_combined_stats.head().to_clipboard()"
   ]
  },
  {
   "cell_type": "code",
   "execution_count": null,
   "metadata": {},
   "outputs": [],
   "source": [
    "# Add \"No access\" as a category for primary schools\n",
    "if (\n",
    "    \"No access\"\n",
    "    not in gdf_combined_stats[\n",
    "        \"duration_to_nearest_primary_schools_label\"\n",
    "    ].cat.categories\n",
    "):\n",
    "    gdf_combined_stats[\"duration_to_nearest_primary_schools_label\"] = (\n",
    "        gdf_combined_stats[\n",
    "            \"duration_to_nearest_primary_schools_label\"\n",
    "        ].cat.add_categories(\"No access\")\n",
    "    )\n",
    "\n",
    "# Fill missing values with \"No access\" for primary schools\n",
    "gdf_combined_stats[\"duration_to_nearest_primary_schools_label\"] = gdf_combined_stats[\n",
    "    \"duration_to_nearest_primary_schools_label\"\n",
    "].fillna(\"No access\")\n",
    "\n",
    "# Add \"No access\" as a category for middle schools\n",
    "if (\n",
    "    \"No access\"\n",
    "    not in gdf_combined_stats[\"duration_to_nearest_middle_schools_label\"].cat.categories\n",
    "):\n",
    "    gdf_combined_stats[\"duration_to_nearest_middle_schools_label\"] = gdf_combined_stats[\n",
    "        \"duration_to_nearest_middle_schools_label\"\n",
    "    ].cat.add_categories(\"No access\")\n",
    "\n",
    "# Fill missing values with \"No access\" for middle schools\n",
    "gdf_combined_stats[\"duration_to_nearest_middle_schools_label\"] = gdf_combined_stats[\n",
    "    \"duration_to_nearest_middle_schools_label\"\n",
    "].fillna(\"No access\")\n",
    "\n",
    "\n",
    "# Add \"No access\" as a category for secondary schools\n",
    "if (\n",
    "    \"No access\"\n",
    "    not in gdf_combined_stats[\n",
    "        \"duration_to_nearest_secondary_schools_label\"\n",
    "    ].cat.categories\n",
    "):\n",
    "    gdf_combined_stats[\"duration_to_nearest_secondary_schools_label\"] = (\n",
    "        gdf_combined_stats[\n",
    "            \"duration_to_nearest_secondary_schools_label\"\n",
    "        ].cat.add_categories(\"No access\")\n",
    "    )\n",
    "\n",
    "# Fill missing values with \"No access\" for secondary schools\n",
    "gdf_combined_stats[\"duration_to_nearest_secondary_schools_label\"] = gdf_combined_stats[\n",
    "    \"duration_to_nearest_secondary_schools_label\"\n",
    "].fillna(\"No access\")"
   ]
  },
  {
   "cell_type": "code",
   "execution_count": null,
   "metadata": {},
   "outputs": [],
   "source": [
    "# Group by \"country\", \"smod\", and \"duration_to_nearest_primary_schools_label\" and calculate the sum of \"pop_primary_school_age\"\n",
    "result = gdf_combined_stats.groupby(\n",
    "    [\"country\", \"category\", \"duration_to_nearest_primary_schools_label\"], as_index=False\n",
    ")[\"pop_primary_school_age\"].sum()\n",
    "\n",
    "# Display the result\n",
    "result"
   ]
  },
  {
   "cell_type": "code",
   "execution_count": null,
   "metadata": {},
   "outputs": [],
   "source": [
    "# Save to an excel file\n",
    "result.to_excel(\"outputs/pop_primary_school_age_2025_06_04.xlsx\", index=False)"
   ]
  },
  {
   "cell_type": "code",
   "execution_count": null,
   "metadata": {},
   "outputs": [],
   "source": [
    "# Group by \"country\", \"category\", and \"duration_to_nearest_schools_label\" and calculate the sum of \"pop_middle_school_age\"\n",
    "result_middle = gdf_combined_stats.groupby(\n",
    "    [\"country\", \"category\", \"duration_to_nearest_middle_schools_label\"],\n",
    "    as_index=False,\n",
    ")[\"pop_middle_school_age\"].sum()\n",
    "\n",
    "# Display the result\n",
    "result_middle"
   ]
  },
  {
   "cell_type": "code",
   "execution_count": null,
   "metadata": {},
   "outputs": [],
   "source": [
    "# Group by \"country\", \"category\", and \"duration_to_nearest_schools_label\" and calculate the sum of \"pop_secondary_school_age\"\n",
    "result_secondary = gdf_combined_stats.groupby(\n",
    "    [\"country\", \"category\", \"duration_to_nearest_secondary_schools_label\"],\n",
    "    as_index=False,\n",
    ")[\"pop_secondary_school_age\"].sum()\n",
    "\n",
    "# Display the result\n",
    "result_secondary"
   ]
  },
  {
   "cell_type": "code",
   "execution_count": null,
   "metadata": {},
   "outputs": [],
   "source": [
    "# Save to an excel file\n",
    "result_secondary.to_excel(\n",
    "    \"outputs/pop_secondary_school_age_2025_06_04.xlsx\", index=False\n",
    ")"
   ]
  },
  {
   "cell_type": "code",
   "execution_count": null,
   "metadata": {},
   "outputs": [],
   "source": [
    "result.head().to_clipboard()"
   ]
  },
  {
   "cell_type": "code",
   "execution_count": null,
   "metadata": {},
   "outputs": [],
   "source": [
    "# Import required libraries\n",
    "import pandas as pd\n",
    "import seaborn as sns"
   ]
  },
  {
   "cell_type": "code",
   "execution_count": null,
   "metadata": {},
   "outputs": [],
   "source": [
    "%matplotlib inline"
   ]
  },
  {
   "cell_type": "code",
   "execution_count": null,
   "metadata": {},
   "outputs": [],
   "source": [
    "# Create a bar plot with seaborn\n",
    "plt.figure(figsize=(8, 6))\n",
    "sns.barplot(\n",
    "    data=result_secondary,\n",
    "    x=\"duration_to_nearest_secondary_schools_label\",\n",
    "    y=\"pop_secondary_school_age\",\n",
    "    hue=\"category\",\n",
    "    errorbar=None,\n",
    ")\n",
    "plt.title(\"Population in Secondary School Age by Travel Time\")\n",
    "plt.xlabel(\"Travel Time to Nearest School (minutes)\")\n",
    "plt.ylabel(\"Population (Secondary School Age)\")\n",
    "plt.tight_layout()\n",
    "plt.show()"
   ]
  },
  {
   "cell_type": "code",
   "execution_count": null,
   "metadata": {},
   "outputs": [],
   "source": [
    "result_secondary"
   ]
  },
  {
   "cell_type": "code",
   "execution_count": null,
   "metadata": {},
   "outputs": [],
   "source": [
    "for col in result_secondary.country.unique():\n",
    "    # Create a bar plot with seaborn\n",
    "    plt.figure(figsize=(8, 6))\n",
    "    sns.barplot(\n",
    "        data=result_secondary[result_secondary[\"country\"] == col],\n",
    "        x=\"duration_to_nearest_secondary_schools_label\",\n",
    "        y=\"pop_secondary_school_age\",\n",
    "        hue=\"category\",\n",
    "        errorbar=None,\n",
    "    )\n",
    "    plt.title(f\"{col}: Population in Secondary School Age by Travel Time\")\n",
    "    plt.xlabel(\"Travel Time to Nearest School (minutes)\")\n",
    "    plt.ylabel(\"Population (Secondary School Age)\")\n",
    "    plt.tight_layout()\n",
    "    plt.savefig(f\"outputs/{col}_secondary_school_access_plot.png\")\n",
    "    plt.show()"
   ]
  },
  {
   "cell_type": "code",
   "execution_count": null,
   "metadata": {},
   "outputs": [],
   "source": [
    "result"
   ]
  },
  {
   "cell_type": "markdown",
   "metadata": {},
   "source": []
  },
  {
   "cell_type": "code",
   "execution_count": null,
   "metadata": {},
   "outputs": [],
   "source": [
    "# (optional) set a clean style\n",
    "sns.set(style=\"whitegrid\", context=\"talk\")"
   ]
  },
  {
   "cell_type": "code",
   "execution_count": null,
   "metadata": {},
   "outputs": [],
   "source": [
    "# make a working df\n",
    "df = gdf_combined_stats.copy()\n",
    "\n",
    "plt.figure(figsize=(8, 6))\n",
    "sns.scatterplot(\n",
    "    x=\"duration_to_nearest_primary_schools\",\n",
    "    y=\"pop_primary_school_age\",\n",
    "    hue=\"country\",\n",
    "    palette=\"tab10\",\n",
    "    alpha=0.1,\n",
    "    data=df,\n",
    ")\n",
    "plt.xlabel(\"Travel time to nearest primary school (min)\")\n",
    "plt.ylabel(\"Primary - school - age population\")\n",
    "plt.title(\"Primary - age children vs. travel time to primary school\")\n",
    "plt.legend(title=\"Country\", bbox_to_anchor=(1.05, 1), loc=\"upper left\")\n",
    "plt.tight_layout()\n",
    "plt.show()"
   ]
  },
  {
   "cell_type": "code",
   "execution_count": null,
   "metadata": {},
   "outputs": [],
   "source": [
    "plt.figure(figsize=(8, 6))\n",
    "sns.scatterplot(\n",
    "    x=\"duration_to_nearest_secondary_schools\",\n",
    "    y=\"pop_secondary_school_age\",\n",
    "    hue=\"country\",\n",
    "    palette=\"tab10\",\n",
    "    alpha=0.1,\n",
    "    data=df,\n",
    ")\n",
    "plt.xlabel(\"Travel time to nearest secondary school (min)\")\n",
    "plt.ylabel(\"Secondary - school - age population\")\n",
    "plt.title(\"Secondary - age children vs. travel time to secondary school\")\n",
    "plt.legend(title=\"Country\", bbox_to_anchor=(1.05, 1), loc=\"upper left\")\n",
    "plt.tight_layout()\n",
    "plt.show()"
   ]
  },
  {
   "cell_type": "code",
   "execution_count": null,
   "metadata": {},
   "outputs": [],
   "source": [
    "# aggregate by country\n",
    "country_stats = (\n",
    "    df.groupby(\"country\")\n",
    "    .agg(\n",
    "        total_primary_pop=(\"pop_primary_school_age\", \"sum\"),\n",
    "        mean_primary_time=(\"duration_to_nearest_primary_schools\", \"mean\"),\n",
    "        total_secondary_pop=(\"pop_secondary_school_age\", \"sum\"),\n",
    "        mean_secondary_time=(\"duration_to_nearest_secondary_schools\", \"mean\"),\n",
    "    )\n",
    "    .reset_index()\n",
    ")\n",
    "\n",
    "fig, ax = plt.subplots(2, 1, figsize=(10, 12), sharex=True, sharey=True)\n",
    "\n",
    "# primary\n",
    "sns.scatterplot(\n",
    "    x=\"mean_primary_time\",\n",
    "    y=\"total_primary_pop\",\n",
    "    size=\"total_primary_pop\",\n",
    "    sizes=(100, 2000),\n",
    "    hue=\"country\",\n",
    "    data=country_stats,\n",
    "    legend=False,\n",
    "    alpha=0.5,\n",
    "    ax=ax[0],\n",
    ")\n",
    "for _, row in country_stats.iterrows():\n",
    "    ax[0].text(\n",
    "        row.mean_primary_time,\n",
    "        row.total_primary_pop,\n",
    "        row.country.upper(),\n",
    "        horizontalalignment=\"center\",\n",
    "        verticalalignment=\"center\",\n",
    "    )\n",
    "ax[0].set_xlabel(\"Avg. primary - school travel time (min)\")\n",
    "ax[0].set_ylabel(\"Total primary - age population\")\n",
    "ax[0].set_title(\"Country - level: primary - age pop vs. avg. travel time\")\n",
    "\n",
    "\n",
    "# primary\n",
    "sns.scatterplot(\n",
    "    x=\"mean_secondary_time\",\n",
    "    y=\"total_secondary_pop\",\n",
    "    size=\"total_secondary_pop\",\n",
    "    sizes=(100, 2000),\n",
    "    hue=\"country\",\n",
    "    data=country_stats,\n",
    "    legend=False,\n",
    "    alpha=0.5,\n",
    "    ax=ax[1],\n",
    ")\n",
    "for _, row in country_stats.iterrows():\n",
    "    ax[1].text(\n",
    "        row.mean_secondary_time,\n",
    "        row.total_secondary_pop,\n",
    "        row.country.upper(),\n",
    "        horizontalalignment=\"center\",\n",
    "        verticalalignment=\"center\",\n",
    "    )\n",
    "ax[1].set_xlabel(\"Avg. secondary - school travel time (min)\")\n",
    "ax[1].set_ylabel(\"Total secondary - age population\")\n",
    "ax[1].set_title(\"Country - level: secondary - age pop vs. avg. travel time\")\n",
    "\n",
    "plt.tight_layout()\n",
    "plt.show()"
   ]
  },
  {
   "cell_type": "code",
   "execution_count": null,
   "metadata": {},
   "outputs": [],
   "source": [
    "category_stats = (\n",
    "    df.groupby(\"category\")\n",
    "    .agg(\n",
    "        total_primary_pop=(\"pop_primary_school_age\", \"sum\"),\n",
    "        mean_primary_time=(\"duration_to_nearest_primary_schools\", \"mean\"),\n",
    "        total_secondary_pop=(\"pop_secondary_school_age\", \"sum\"),\n",
    "        mean_secondary_time=(\"duration_to_nearest_secondary_schools\", \"mean\"),\n",
    "    )\n",
    "    .sort_values(\"mean_primary_time\", ascending=False)\n",
    "    .reset_index()\n",
    ")\n",
    "\n",
    "# Primary\n",
    "fig, ax = plt.subplots(1, 2, figsize=(14, 6), sharex=True)\n",
    "sns.barplot(\n",
    "    x=\"mean_primary_time\",\n",
    "    y=\"category\",\n",
    "    data=category_stats,\n",
    "    ax=ax[0],\n",
    "    order=category_stats.category,\n",
    ")\n",
    "ax[0].set_title(\"Avg. primary travel time by settlement type\")\n",
    "ax[0].set_xlabel(\"Time (min)\")\n",
    "ax[0].set_ylabel(\"Settlement type\")\n",
    "\n",
    "# Secondary\n",
    "sns.barplot(\n",
    "    x=\"mean_secondary_time\",\n",
    "    y=\"category\",\n",
    "    data=category_stats.sort_values(\"mean_secondary_time\", ascending=False),\n",
    "    ax=ax[1],\n",
    ")\n",
    "ax[1].set_title(\"Avg. secondary travel time by settlement type\")\n",
    "ax[1].set_xlabel(\"Time (min)\")\n",
    "ax[1].set_ylabel(\"\")\n",
    "plt.tight_layout()\n",
    "plt.show()"
   ]
  },
  {
   "cell_type": "code",
   "execution_count": null,
   "metadata": {},
   "outputs": [],
   "source": [
    "import matplotlib.cm as cm\n",
    "import matplotlib.colors as mcolors"
   ]
  },
  {
   "cell_type": "code",
   "execution_count": null,
   "metadata": {},
   "outputs": [],
   "source": [
    "# Define duration bin order\n",
    "duration_order = (\n",
    "    gdf_combined_stats[\"duration_to_nearest_primary_schools_label\"].dropna().unique()\n",
    ")"
   ]
  },
  {
   "cell_type": "code",
   "execution_count": null,
   "metadata": {},
   "outputs": [],
   "source": [
    "duration_order.to_list()"
   ]
  },
  {
   "cell_type": "code",
   "execution_count": null,
   "metadata": {},
   "outputs": [],
   "source": [
    "duration_order = [\n",
    "    \"0-15\",\n",
    "    \"15-30\",\n",
    "    \"30-45\",\n",
    "    \"45-60\",\n",
    "    \"60-90\",\n",
    "    \"90-120\",\n",
    "    \">120\",\n",
    "    \"No access\",\n",
    "]"
   ]
  },
  {
   "cell_type": "code",
   "execution_count": null,
   "metadata": {},
   "outputs": [],
   "source": [
    "cmap = cm.get_cmap(\"viridis\", len(duration_order))"
   ]
  },
  {
   "cell_type": "code",
   "execution_count": null,
   "metadata": {},
   "outputs": [],
   "source": [
    "duration_colors = {\n",
    "    label: mcolors.rgb2hex(cmap(i)) for i, label in enumerate(duration_order)\n",
    "}\n",
    "duration_colors"
   ]
  },
  {
   "cell_type": "code",
   "execution_count": null,
   "metadata": {},
   "outputs": [],
   "source": [
    "duration_colors[\"No access\"] = \"#808080\"  # Set \"No access\" to gray"
   ]
  },
  {
   "cell_type": "code",
   "execution_count": null,
   "metadata": {},
   "outputs": [],
   "source": [
    "def plot_school_age_distribution(\n",
    "    education_level, hue, pop_label_df, duration_order, duration_colors, **kwargs\n",
    "):\n",
    "    \"\"\"\n",
    "    Plots the country-level distribution of school-age population by travel-time label.\n",
    "\n",
    "    Parameters:\n",
    "        education_level (str): The education level to plot ('primary', 'middle', or 'secondary').\n",
    "        pop_label_df (pd.DataFrame): DataFrame with countries as index and travel-time bins as columns (absolute values).\n",
    "        duration_order (list): List of travel-time bin labels in desired order.\n",
    "        duration_colors (dict): Mapping from travel-time bin label to color.\n",
    "    \"\"\"\n",
    "\n",
    "    # pivot to get total secondary‐age pop by country × label\n",
    "    pop_label_country_sec = (\n",
    "        pop_label_df.groupby(\n",
    "            [hue, f\"duration_to_nearest_{education_level}_schools_label\"]\n",
    "        )[f\"pop_{education_level}_school_age\"]\n",
    "        .sum()\n",
    "        .unstack(fill_value=0)\n",
    "    )\n",
    "\n",
    "    # Convert to fractions (so bars sum to 1)\n",
    "    pop_label_pct = pop_label_country_sec.div(pop_label_country_sec.sum(axis=1), axis=0)\n",
    "\n",
    "    # Plot\n",
    "    ax = pop_label_pct[duration_order].plot(\n",
    "        kind=\"bar\",\n",
    "        stacked=True,\n",
    "        figsize=(10, 6),\n",
    "        color=[duration_colors[label] for label in duration_order],\n",
    "        width=0.8,\n",
    "        linewidth=0,\n",
    "        **kwargs,\n",
    "    )\n",
    "    ax.set_ylabel(f\"Percentage of {education_level.capitalize()} population\")\n",
    "    ax.set_xlabel(hue.capitalize())\n",
    "    ax.set_title(f\"{education_level.capitalize()} age population by travel time bins\")\n",
    "    ax.legend(title=\"Travel time (min)\", bbox_to_anchor=(1.05, 1), loc=\"upper left\")\n",
    "\n",
    "    # Invert the order of the legend to match the order of the bars\n",
    "    handles, labels = ax.get_legend_handles_labels()\n",
    "    ax.legend(\n",
    "        handles[::-1],\n",
    "        labels[::-1],\n",
    "        title=\"Travel time (min)\",\n",
    "        bbox_to_anchor=(1.05, 1),\n",
    "        loc=\"upper left\",\n",
    "    )\n",
    "\n",
    "    plt.tight_layout()"
   ]
  },
  {
   "cell_type": "code",
   "execution_count": null,
   "metadata": {},
   "outputs": [],
   "source": [
    "plot_school_age_distribution(\n",
    "    \"primary\", \"country\", gdf_combined_stats, duration_order, duration_colors\n",
    ")\n",
    "plt.savefig(\"outputs/figures/school_age_distribution_primary_country\", dpi=300)\n",
    "plt.show()\n",
    "plot_school_age_distribution(\n",
    "    \"middle\", \"country\", gdf_combined_stats, duration_order, duration_colors\n",
    ")\n",
    "plt.savefig(\"outputs/figures/school_age_distribution_middle_country\", dpi=300)\n",
    "plt.show()\n",
    "plot_school_age_distribution(\n",
    "    \"secondary\", \"country\", gdf_combined_stats, duration_order, duration_colors\n",
    ")\n",
    "plt.savefig(\"outputs/figures/school_age_distribution_secondary_country\", dpi=300)\n",
    "plt.show()"
   ]
  },
  {
   "cell_type": "code",
   "execution_count": null,
   "metadata": {},
   "outputs": [],
   "source": [
    "plot_school_age_distribution(\n",
    "    \"primary\",\n",
    "    \"category\",\n",
    "    gdf_combined_stats,\n",
    "    duration_order,\n",
    "    duration_colors,\n",
    "    rot=0,\n",
    ")\n",
    "plt.savefig(\"outputs/figures/school_age_distribution_primary_urban\", dpi=300)\n",
    "plt.show()\n",
    "plot_school_age_distribution(\n",
    "    \"middle\",\n",
    "    \"category\",\n",
    "    gdf_combined_stats,\n",
    "    duration_order,\n",
    "    duration_colors,\n",
    "    rot=0,\n",
    ")\n",
    "plt.savefig(\"outputs/figures/school_age_distribution_middle_urban\", dpi=300)\n",
    "plt.show()\n",
    "plot_school_age_distribution(\n",
    "    \"secondary\",\n",
    "    \"category\",\n",
    "    gdf_combined_stats,\n",
    "    duration_order,\n",
    "    duration_colors,\n",
    "    rot=0,\n",
    ")\n",
    "plt.savefig(\"outputs/figures/school_age_distribution_secondary_urban\", dpi=300)\n",
    "plt.show()"
   ]
  },
  {
   "cell_type": "code",
   "execution_count": null,
   "metadata": {},
   "outputs": [],
   "source": [
    "# Create a copy with relevant columns\n",
    "df_lorenz = (\n",
    "    gdf_combined_stats[\n",
    "        [\"duration_to_nearest_primary_schools\", \"pop_primary_school_age\"]\n",
    "    ]\n",
    "    .dropna()\n",
    "    .copy()\n",
    ")\n",
    "\n",
    "# Remove zero-pop cells\n",
    "df_lorenz = df_lorenz[df_lorenz.pop_primary_school_age > 0]\n",
    "\n",
    "# Sort by duration\n",
    "df_lorenz.sort_values(\"duration_to_nearest_primary_schools\", inplace=True)\n",
    "\n",
    "# Compute cumulative population and cumulative share\n",
    "df_lorenz[\"cum_pop\"] = df_lorenz[\"pop_primary_school_age\"].cumsum()\n",
    "df_lorenz[\"cum_pop_share\"] = (\n",
    "    df_lorenz[\"cum_pop\"] / df_lorenz[\"pop_primary_school_age\"].sum()\n",
    ")\n",
    "\n",
    "# Weight durations by population (population-weighted Lorenz curve)\n",
    "df_lorenz[\"duration_weighted\"] = (\n",
    "    df_lorenz[\"duration_to_nearest_primary_schools\"]\n",
    "    * df_lorenz[\"pop_primary_school_age\"]\n",
    ")\n",
    "df_lorenz[\"cum_duration\"] = df_lorenz[\"duration_weighted\"].cumsum()\n",
    "df_lorenz[\"cum_duration_share\"] = (\n",
    "    df_lorenz[\"cum_duration\"] / df_lorenz[\"duration_weighted\"].sum()\n",
    ")\n",
    "\n",
    "# Create a copy with relevant columns\n",
    "df_lorenz_sec = (\n",
    "    gdf_combined_stats[\n",
    "        [\"duration_to_nearest_secondary_schools\", \"pop_secondary_school_age\"]\n",
    "    ]\n",
    "    .dropna()\n",
    "    .copy()\n",
    ")\n",
    "\n",
    "# Remove zero-pop cells\n",
    "df_lorenz_sec = df_lorenz_sec[df_lorenz_sec.pop_secondary_school_age > 0]\n",
    "\n",
    "# Sort by duration\n",
    "df_lorenz_sec.sort_values(\"duration_to_nearest_secondary_schools\", inplace=True)\n",
    "\n",
    "# Compute cumulative population and cumulative share\n",
    "df_lorenz_sec[\"cum_pop\"] = df_lorenz_sec[\"pop_secondary_school_age\"].cumsum()\n",
    "df_lorenz_sec[\"cum_pop_share\"] = (\n",
    "    df_lorenz_sec[\"cum_pop\"] / df_lorenz_sec[\"pop_secondary_school_age\"].sum()\n",
    ")\n",
    "\n",
    "# Weight durations by population (population-weighted Lorenz curve)\n",
    "df_lorenz_sec[\"duration_weighted\"] = (\n",
    "    df_lorenz_sec[\"duration_to_nearest_secondary_schools\"]\n",
    "    * df_lorenz_sec[\"pop_secondary_school_age\"]\n",
    ")\n",
    "df_lorenz_sec[\"cum_duration\"] = df_lorenz_sec[\"duration_weighted\"].cumsum()\n",
    "df_lorenz_sec[\"cum_duration_share\"] = (\n",
    "    df_lorenz_sec[\"cum_duration\"] / df_lorenz_sec[\"duration_weighted\"].sum()\n",
    ")\n",
    "\n",
    "# Plot both Lorenz curves on the same plot\n",
    "plt.figure(figsize=(8, 6))\n",
    "plt.plot(\n",
    "    df_lorenz[\"cum_pop_share\"],\n",
    "    df_lorenz[\"cum_duration_share\"],\n",
    "    label=\"Primary school age\",\n",
    "    color=\"blue\",\n",
    "    alpha=0.5,\n",
    ")\n",
    "plt.plot(\n",
    "    df_lorenz_sec[\"cum_pop_share\"],\n",
    "    df_lorenz_sec[\"cum_duration_share\"],\n",
    "    label=\"Secondary school age\",\n",
    "    color=\"green\",\n",
    "    alpha=0.5,\n",
    ")\n",
    "plt.plot([0, 1], [0, 1], linestyle=\"--\", color=\"gray\", label=\"Line of equality\")\n",
    "plt.title(\"Lorenz Curve: Inequality in Access to Schools\")\n",
    "plt.xlabel(\"Cumulative share of population\")\n",
    "plt.ylabel(\"Cumulative share of total travel-time burden\")\n",
    "plt.legend()\n",
    "plt.grid(True)\n",
    "plt.tight_layout()\n",
    "\n",
    "plt.savefig(\"outputs/figures/access_inequality_lorenz_curve.png\", dpi=300)\n",
    "\n",
    "plt.show()"
   ]
  },
  {
   "cell_type": "code",
   "execution_count": null,
   "metadata": {},
   "outputs": [],
   "source": [
    "plt.figure(figsize=(10, 6))\n",
    "sns.boxplot(\n",
    "    data=gdf_combined_stats[gdf_combined_stats[\"pop_primary_school_age\"] > 0],\n",
    "    x=\"country\",\n",
    "    y=\"duration_to_nearest_primary_schools\",\n",
    "    color=\"skyblue\",\n",
    "    showfliers=False,\n",
    "    width=0.4,\n",
    "    # position=1,\n",
    "    boxprops=dict(alpha=0.7),\n",
    "    linewidth=1.5,\n",
    "    dodge=True,\n",
    "    label=\"Primary\",\n",
    ")\n",
    "sns.boxplot(\n",
    "    data=gdf_combined_stats[gdf_combined_stats[\"pop_secondary_school_age\"] > 0],\n",
    "    x=\"country\",\n",
    "    y=\"duration_to_nearest_secondary_schools\",\n",
    "    color=\"orange\",\n",
    "    showfliers=False,\n",
    "    width=0.4,\n",
    "    position=0,\n",
    "    boxprops=dict(alpha=0.7),\n",
    "    linewidth=1.5,\n",
    "    dodge=True,\n",
    "    label=\"Secondary\",\n",
    ")\n",
    "plt.ylabel(\"Travel time to school (min)\")\n",
    "plt.title(\"Distribution of Travel Times to Schools by Country\")\n",
    "plt.legend(\n",
    "    handles=[\n",
    "        plt.Line2D([0], [0], color=\"skyblue\", lw=8, label=\"Primary\"),\n",
    "        plt.Line2D([0], [0], color=\"orange\", lw=8, label=\"Secondary\"),\n",
    "    ]\n",
    ")\n",
    "plt.tight_layout()\n",
    "plt.show()"
   ]
  },
  {
   "cell_type": "code",
   "execution_count": null,
   "metadata": {},
   "outputs": [],
   "source": [
    "# Summary stats for Ecuador\n",
    "ecuador = gdf_combined_stats[gdf_combined_stats[\"country\"] == \"ecu\"]\n",
    "print(\"Number of rows for Ecuador:\", len(ecuador))\n",
    "print(\"Non-zero population cells:\", (ecuador[\"pop_primary_school_age\"] > 0).sum())\n",
    "print(\n",
    "    \"Non-null durations:\",\n",
    "    ecuador[\"duration_to_nearest_primary_schools\"].notnull().sum(),\n",
    ")\n",
    "print(\n",
    "    \"Unique duration values:\", ecuador[\"duration_to_nearest_primary_schools\"].unique()\n",
    ")"
   ]
  },
  {
   "cell_type": "code",
   "execution_count": null,
   "metadata": {},
   "outputs": [],
   "source": [
    "gdf_combined_stats[gdf_combined_stats[\"country\"] == \"ecu\"][\n",
    "    [\"pop_primary_school_age\", \"duration_to_nearest_primary_schools\"]\n",
    "].describe()"
   ]
  },
  {
   "cell_type": "code",
   "execution_count": null,
   "metadata": {},
   "outputs": [],
   "source": [
    "sns.boxplot(\n",
    "    data=gdf_combined_stats[\n",
    "        (gdf_combined_stats[\"pop_primary_school_age\"] > 0)\n",
    "        & (gdf_combined_stats[\"duration_to_nearest_primary_schools\"] > 0)\n",
    "    ],\n",
    "    x=\"country\",\n",
    "    y=\"duration_to_nearest_primary_schools\",\n",
    "    showfliers=False,  # hide outliers for readability,\n",
    ")\n",
    "plt.ylabel(\"Travel time to primary school (min)\")\n",
    "plt.title(\"Travel Times to Primary Schools by Country\")\n",
    "plt.tight_layout()\n",
    "plt.show()"
   ]
  },
  {
   "cell_type": "code",
   "execution_count": null,
   "metadata": {},
   "outputs": [],
   "source": [
    "gdf_combined_stats[gdf_combined_stats[\"pop_primary_school_age\"] > 0]"
   ]
  },
  {
   "cell_type": "code",
   "execution_count": null,
   "metadata": {},
   "outputs": [],
   "source": [
    "plt.figure(figsize=(10, 6))\n",
    "sns.boxplot(\n",
    "    data=gdf_combined_stats[gdf_combined_stats[\"pop_primary_school_age\"] > 0],\n",
    "    x=\"category\",\n",
    "    y=\"duration_to_nearest_primary_schools\",\n",
    "    order=[\"non_urban_area\", \"urban_area\"],\n",
    "    showfliers=False,\n",
    ")\n",
    "plt.ylabel(\"Travel time to primary school (min)\")\n",
    "plt.title(\"Travel Time Distribution by Settlement Type\")\n",
    "plt.tight_layout()\n",
    "plt.show()"
   ]
  },
  {
   "cell_type": "code",
   "execution_count": null,
   "metadata": {},
   "outputs": [],
   "source": [
    "# Make sure all needed columns are included in the copy\n",
    "df_facet = gdf_combined_stats[\n",
    "    [\n",
    "        \"country\",\n",
    "        \"category\",\n",
    "        \"pop_primary_school_age\",\n",
    "        \"pop_middle_school_age\",\n",
    "        \"pop_secondary_school_age\",\n",
    "        \"duration_to_nearest_primary_schools_label\",\n",
    "        \"duration_to_nearest_middle_schools_label\",\n",
    "        \"duration_to_nearest_secondary_schools_label\",\n",
    "    ]\n",
    "].copy()\n",
    "\n",
    "# Melt the population columns\n",
    "df_melted = pd.melt(\n",
    "    df_facet,\n",
    "    id_vars=[\n",
    "        \"country\",\n",
    "        \"category\",\n",
    "        \"duration_to_nearest_primary_schools_label\",\n",
    "        \"duration_to_nearest_middle_schools_label\",\n",
    "        \"duration_to_nearest_secondary_schools_label\",\n",
    "    ],\n",
    "    value_vars=[\n",
    "        \"pop_primary_school_age\",\n",
    "        \"pop_middle_school_age\",\n",
    "        \"pop_secondary_school_age\",\n",
    "    ],\n",
    "    var_name=\"school_level\",\n",
    "    value_name=\"pop_school_age\",\n",
    ")\n",
    "\n",
    "# Assign matching duration labels\n",
    "df_melted[\"duration_label\"] = df_melted.apply(\n",
    "    lambda row: (\n",
    "        row[\"duration_to_nearest_primary_schools_label\"]\n",
    "        if row[\"school_level\"] == \"pop_primary_school_age\"\n",
    "        else (\n",
    "            row[\"duration_to_nearest_middle_schools_label\"]\n",
    "            if row[\"school_level\"] == \"pop_middle_school_age\"\n",
    "            else row[\"duration_to_nearest_secondary_schools_label\"]\n",
    "        )\n",
    "    ),\n",
    "    axis=1,\n",
    ")\n",
    "\n",
    "# Clean up school level name\n",
    "df_melted[\"school_level\"] = df_melted[\"school_level\"].map(\n",
    "    {\n",
    "        \"pop_primary_school_age\": \"Primary\",\n",
    "        \"pop_middle_school_age\": \"Middle\",\n",
    "        \"pop_secondary_school_age\": \"Secondary\",\n",
    "    }\n",
    ")\n",
    "\n",
    "# Filter out zero-pop rows\n",
    "df_melted = df_melted[df_melted[\"pop_school_age\"] > 0]\n",
    "\n",
    "# Facet by country\n",
    "g = sns.catplot(\n",
    "    data=df_melted,\n",
    "    kind=\"bar\",\n",
    "    x=\"duration_label\",\n",
    "    y=\"pop_school_age\",\n",
    "    hue=\"school_level\",\n",
    "    hue_order=[\"Primary\", \"Middle\", \"Secondary\"],\n",
    "    col=\"country\",\n",
    "    col_wrap=3,\n",
    "    order=duration_order,\n",
    "    height=10,\n",
    "    aspect=0.7,\n",
    "    errorbar=None,\n",
    "    sharex=False,\n",
    "    sharey=True,\n",
    ")\n",
    "\n",
    "g.set_axis_labels(\"Travel time bin (min)\", \"School-age population\")\n",
    "# g.set_titles(\"Country: {col_name}\")\n",
    "g._legend.set_title(\"School level\")\n",
    "g._legend.set_loc(\"lower right\")\n",
    "# Rotate x-axis labels for better readability\n",
    "for ax in g.axes.flat:\n",
    "    for label in ax.get_xticklabels():\n",
    "        label.set_rotation(45)\n",
    "        label.set_ha(\"right\")\n",
    "# plt.subplots_adjust(top=0.9)\n",
    "plt.tight_layout()\n",
    "\n",
    "plt.savefig(\"outputs/figures/school_population_duration_country.png\", dpi=300)\n",
    "plt.show()"
   ]
  },
  {
   "cell_type": "code",
   "execution_count": null,
   "metadata": {},
   "outputs": [],
   "source": []
  }
 ],
 "metadata": {
  "kernelspec": {
   "display_name": ".venv",
   "language": "python",
   "name": "python3"
  },
  "language_info": {
   "codemirror_mode": {
    "name": "ipython",
    "version": 3
   },
   "file_extension": ".py",
   "mimetype": "text/x-python",
   "name": "python",
   "nbconvert_exporter": "python",
   "pygments_lexer": "ipython3",
   "version": "3.12.10"
  }
 },
 "nbformat": 4,
 "nbformat_minor": 2
}
