{
 "cells": [
  {
   "cell_type": "code",
   "execution_count": null,
   "metadata": {},
   "outputs": [],
   "source": [
    "import matplotlib.pyplot as plt\n",
    "import plotly\n",
    "import plotly.express as px\n",
    "import geopandas as gpd\n",
    "import contextily as ctx\n",
    "import urbanpy as up\n",
    "from tqdm.notebook import tqdm"
   ]
  },
  {
   "cell_type": "code",
   "execution_count": null,
   "metadata": {},
   "outputs": [],
   "source": [
    "tqdm.pandas()"
   ]
  },
  {
   "cell_type": "code",
   "execution_count": null,
   "metadata": {},
   "outputs": [],
   "source": [
    "gdf_celdas = gpd.read_parquet(\"outputs/celdas_02_06_2025.parquet\")"
   ]
  },
  {
   "cell_type": "code",
   "execution_count": null,
   "metadata": {},
   "outputs": [],
   "source": [
    "peru = up.download.nominatim_osm(\"Peru\", 0, email=\"claudio@autodash.org\")"
   ]
  },
  {
   "cell_type": "code",
   "execution_count": null,
   "metadata": {},
   "outputs": [],
   "source": [
    "peru"
   ]
  },
  {
   "cell_type": "code",
   "execution_count": null,
   "metadata": {},
   "outputs": [],
   "source": [
    "peru.plot()"
   ]
  },
  {
   "cell_type": "code",
   "execution_count": null,
   "metadata": {},
   "outputs": [],
   "source": [
    "huancabamba = up.download.nominatim_osm(\n",
    "    \"Huancabamba, Peru\", 0, email=\"claudio@autodash.org\"\n",
    ")"
   ]
  },
  {
   "cell_type": "code",
   "execution_count": null,
   "metadata": {},
   "outputs": [],
   "source": [
    "huancabamba.crs"
   ]
  },
  {
   "cell_type": "code",
   "execution_count": null,
   "metadata": {},
   "outputs": [],
   "source": [
    "huancabamba.plot()"
   ]
  },
  {
   "cell_type": "code",
   "execution_count": null,
   "metadata": {},
   "outputs": [],
   "source": [
    "gdf_celdas.columns"
   ]
  },
  {
   "cell_type": "code",
   "execution_count": null,
   "metadata": {},
   "outputs": [],
   "source": [
    "gdf_celdas[\"pop_2020\"].describe()"
   ]
  },
  {
   "cell_type": "code",
   "execution_count": null,
   "metadata": {},
   "outputs": [],
   "source": [
    "gdf_celdas[gdf_celdas[\"pop_2020\"] == 0].shape"
   ]
  },
  {
   "cell_type": "code",
   "execution_count": null,
   "metadata": {},
   "outputs": [],
   "source": [
    "gdf_celdas[gdf_celdas[\"pop_2020\"] == 0]"
   ]
  },
  {
   "cell_type": "code",
   "execution_count": null,
   "metadata": {},
   "outputs": [],
   "source": [
    "gdf_celdas[\"smod\"].value_counts()"
   ]
  },
  {
   "cell_type": "code",
   "execution_count": null,
   "metadata": {},
   "outputs": [],
   "source": [
    "gdf_celdas[\"smod\"].value_counts(normalize=True) * 100"
   ]
  },
  {
   "cell_type": "code",
   "execution_count": null,
   "metadata": {},
   "outputs": [],
   "source": [
    "gdf_celdas[gdf_celdas[\"smod\"] != \"rural\"].shape"
   ]
  },
  {
   "cell_type": "code",
   "execution_count": null,
   "metadata": {},
   "outputs": [],
   "source": [
    "gdf_celdas[(gdf_celdas[\"pop_2020\"] > 1) & (gdf_celdas[\"smod\"] != \"rural\")][\n",
    "    \"pop_2020\"\n",
    "].describe()"
   ]
  },
  {
   "cell_type": "code",
   "execution_count": null,
   "metadata": {},
   "outputs": [],
   "source": [
    "celdas_huancabamba = gdf_celdas[gdf_celdas.intersects(huancabamba.geometry[0])]"
   ]
  },
  {
   "cell_type": "code",
   "execution_count": null,
   "metadata": {},
   "outputs": [],
   "source": [
    "celdas_huancabamba.shape"
   ]
  },
  {
   "cell_type": "code",
   "execution_count": null,
   "metadata": {},
   "outputs": [],
   "source": [
    "fig, ax = plt.subplots(figsize=(10, 10))\n",
    "\n",
    "huancabamba.plot(ax=ax, facecolor=\"none\", edgecolor=\"black\")\n",
    "celdas_huancabamba.plot(\n",
    "    \"pop_2020\", cmap=\"viridis\", legend=True, ax=ax, alpha=0.5, edgecolor=\"black\"\n",
    ")"
   ]
  },
  {
   "cell_type": "code",
   "execution_count": null,
   "metadata": {},
   "outputs": [],
   "source": [
    "# Schools\n",
    "schools, metadata = up.download.overpass(\n",
    "    type_of_data=\"node\",\n",
    "    mask=huancabamba,\n",
    "    query={\n",
    "        \"amenity\": \"school\",\n",
    "    },\n",
    ")"
   ]
  },
  {
   "cell_type": "code",
   "execution_count": null,
   "metadata": {},
   "outputs": [],
   "source": [
    "schools.shape"
   ]
  },
  {
   "cell_type": "code",
   "execution_count": null,
   "metadata": {},
   "outputs": [],
   "source": [
    "fig, ax = plt.subplots(figsize=(10, 10))\n",
    "\n",
    "huancabamba.plot(ax=ax, facecolor=\"none\", edgecolor=\"black\")\n",
    "celdas_huancabamba.plot(\n",
    "    \"pop_2020\", cmap=\"viridis\", legend=True, ax=ax, alpha=0.5, edgecolor=\"black\"\n",
    ")\n",
    "schools.plot(ax=ax, color=\"red\", markersize=10)\n",
    "\n",
    "# Add a basemap\n",
    "# ctx.add_basemap(ax, source=ctx.providers.CartoDB.Positron, crs=huancabamba.crs)"
   ]
  },
  {
   "cell_type": "code",
   "execution_count": null,
   "metadata": {},
   "outputs": [],
   "source": [
    "# start server\n",
    "up.routing.start_osrm_server(\"peru\", \"south-america\", \"foot\")"
   ]
  },
  {
   "cell_type": "code",
   "execution_count": null,
   "metadata": {},
   "outputs": [],
   "source": [
    "huancabamba_access = up.accessibility.travel_times(\n",
    "    celdas_huancabamba, schools, \"schools\"\n",
    ")"
   ]
  },
  {
   "cell_type": "code",
   "execution_count": null,
   "metadata": {},
   "outputs": [],
   "source": [
    "huancabamba_access.head()"
   ]
  },
  {
   "cell_type": "code",
   "execution_count": null,
   "metadata": {},
   "outputs": [],
   "source": [
    "up.routing.stop_osrm_server(\"peru\", \"south-america\", \"foot\")"
   ]
  },
  {
   "cell_type": "code",
   "execution_count": null,
   "metadata": {},
   "outputs": [],
   "source": [
    "plotly.offline.init_notebook_mode()"
   ]
  },
  {
   "cell_type": "code",
   "execution_count": null,
   "metadata": {},
   "outputs": [],
   "source": [
    "fig = up.plotting.choropleth_map(\n",
    "    huancabamba_access,\n",
    "    \"pop_2020\",\n",
    "    title=\"Estimated Population - 2020\",\n",
    "    width=400,\n",
    "    height=400,\n",
    ")\n",
    "\n",
    "# Make space for the title\n",
    "fig.update_layout(margin=dict(l=0, r=0, b=0, t=40))\n",
    "\n",
    "fig.show()"
   ]
  },
  {
   "cell_type": "code",
   "execution_count": null,
   "metadata": {},
   "outputs": [],
   "source": [
    "# Get ordered category labels\n",
    "category_orders = (\n",
    "    huancabamba_access[\"duration_to_nearest_schools_label\"].unique().sort_values()\n",
    ")\n",
    "category_orders.categories"
   ]
  },
  {
   "cell_type": "code",
   "execution_count": null,
   "metadata": {},
   "outputs": [],
   "source": [
    "fig = up.plotting.choropleth_map(\n",
    "    huancabamba_access,\n",
    "    color_column=\"duration_to_nearest_schools_label\",\n",
    "    color_discrete_sequence=px.colors.sequential.Plasma_r,\n",
    "    category_orders={\"duration_to_nearest_schools_label\": category_orders},\n",
    "    labels={\"duration_to_nearest_schools_label\": \"Minutes\"},\n",
    "    title=\"Travel Time to Nearest School\",\n",
    "    width=400,\n",
    "    height=400,\n",
    ")\n",
    "\n",
    "# Make space for the title\n",
    "fig.update_layout(margin=dict(l=0, r=0, b=0))\n",
    "\n",
    "# Remove the hexagon outlines to make the map clearer\n",
    "fig.update_traces(marker_line_width=0)\n",
    "\n",
    "fig.show()"
   ]
  },
  {
   "cell_type": "code",
   "execution_count": null,
   "metadata": {},
   "outputs": [],
   "source": [
    "celdas_peru = gdf_celdas[gdf_celdas.intersects(peru.geometry[0])]"
   ]
  },
  {
   "cell_type": "code",
   "execution_count": null,
   "metadata": {},
   "outputs": [],
   "source": [
    "celdas_peru.shape"
   ]
  },
  {
   "cell_type": "code",
   "execution_count": null,
   "metadata": {},
   "outputs": [],
   "source": [
    "fig, ax = plt.subplots(figsize=(10, 10))\n",
    "\n",
    "peru.plot(ax=ax, facecolor=\"none\", edgecolor=\"black\")\n",
    "celdas_peru.plot(\n",
    "    \"pop_2020\", cmap=\"viridis\", legend=True, ax=ax, alpha=1, edgecolor=\"none\"\n",
    ")\n",
    "\n",
    "# Add basemap\n",
    "ctx.add_basemap(ax, source=ctx.providers.CartoDB.Positron, crs=peru.crs)"
   ]
  },
  {
   "cell_type": "code",
   "execution_count": null,
   "metadata": {},
   "outputs": [],
   "source": [
    "# Schools\n",
    "peru_schools, _ = up.download.overpass(\n",
    "    type_of_data=\"node\",\n",
    "    mask=peru,\n",
    "    query={\n",
    "        \"amenity\": \"school\",\n",
    "    },\n",
    ")"
   ]
  },
  {
   "cell_type": "code",
   "execution_count": null,
   "metadata": {},
   "outputs": [],
   "source": [
    "peru_schools.shape"
   ]
  },
  {
   "cell_type": "code",
   "execution_count": null,
   "metadata": {},
   "outputs": [],
   "source": [
    "fig, ax = plt.subplots(figsize=(10, 10))\n",
    "\n",
    "peru.plot(ax=ax, facecolor=\"none\", edgecolor=\"black\")\n",
    "\n",
    "peru_schools.plot(ax=ax, color=\"red\", markersize=0.001)\n",
    "\n",
    "celdas_peru.plot(\n",
    "    \"pop_2020\", cmap=\"viridis\", legend=True, ax=ax, alpha=1, edgecolor=\"none\"\n",
    ")\n",
    "\n",
    "\n",
    "# Add a basemap\n",
    "ctx.add_basemap(ax, source=ctx.providers.CartoDB.Positron, crs=peru.crs)"
   ]
  },
  {
   "cell_type": "code",
   "execution_count": null,
   "metadata": {},
   "outputs": [],
   "source": [
    "# start server\n",
    "up.routing.start_osrm_server(\"peru\", \"south-america\", \"foot\")"
   ]
  },
  {
   "cell_type": "code",
   "execution_count": null,
   "metadata": {},
   "outputs": [],
   "source": [
    "peru_access = up.accessibility.travel_times(celdas_peru, peru_schools, \"schools\")"
   ]
  },
  {
   "cell_type": "code",
   "execution_count": null,
   "metadata": {},
   "outputs": [],
   "source": [
    "peru_access.head()"
   ]
  },
  {
   "cell_type": "code",
   "execution_count": null,
   "metadata": {},
   "outputs": [],
   "source": [
    "up.routing.stop_osrm_server(\"peru\", \"south-america\", \"foot\")"
   ]
  },
  {
   "cell_type": "code",
   "execution_count": null,
   "metadata": {},
   "outputs": [],
   "source": [
    "plotly.offline.init_notebook_mode()"
   ]
  },
  {
   "cell_type": "code",
   "execution_count": null,
   "metadata": {},
   "outputs": [],
   "source": [
    "fig = up.plotting.choropleth_map(\n",
    "    peru_access,\n",
    "    \"pop_2020\",\n",
    "    title=\"Estimated Population - 2020\",\n",
    "    opacity=0.5,\n",
    "    width=800,\n",
    "    height=800,\n",
    ")\n",
    "\n",
    "# Make space for the title\n",
    "fig.update_layout(margin=dict(l=0, r=0, b=0, t=40))\n",
    "\n",
    "fig.show()"
   ]
  },
  {
   "cell_type": "code",
   "execution_count": null,
   "metadata": {},
   "outputs": [],
   "source": [
    "# Get ordered category labels\n",
    "category_orders = (\n",
    "    huancabamba_access[\"duration_to_nearest_schools_label\"].unique().sort_values()\n",
    ")\n",
    "category_orders.categories"
   ]
  },
  {
   "cell_type": "code",
   "execution_count": null,
   "metadata": {},
   "outputs": [],
   "source": [
    "fig = up.plotting.choropleth_map(\n",
    "    peru_access,\n",
    "    color_column=\"duration_to_nearest_schools_label\",\n",
    "    color_discrete_sequence=px.colors.sequential.Plasma_r,\n",
    "    category_orders={\"duration_to_nearest_schools_label\": category_orders},\n",
    "    opacity=0.5,\n",
    "    labels={\"duration_to_nearest_schools_label\": \"Minutes\"},\n",
    "    title=\"Travel Time to Nearest School\",\n",
    "    width=800,\n",
    "    height=800,\n",
    ")\n",
    "\n",
    "# Make space for the title\n",
    "fig.update_layout(margin=dict(l=0, r=0, b=0, t=40))\n",
    "\n",
    "# Remove the hexagon outlines to make the map clearer\n",
    "fig.update_traces(marker_line_width=0)\n",
    "\n",
    "fig.show()"
   ]
  },
  {
   "cell_type": "code",
   "execution_count": null,
   "metadata": {},
   "outputs": [],
   "source": []
  }
 ],
 "metadata": {
  "kernelspec": {
   "display_name": ".venv",
   "language": "python",
   "name": "python3"
  },
  "language_info": {
   "codemirror_mode": {
    "name": "ipython",
    "version": 3
   },
   "file_extension": ".py",
   "mimetype": "text/x-python",
   "name": "python",
   "nbconvert_exporter": "python",
   "pygments_lexer": "ipython3",
   "version": "3.12.10"
  }
 },
 "nbformat": 4,
 "nbformat_minor": 2
}
