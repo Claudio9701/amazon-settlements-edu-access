{
 "cells": [
  {
   "cell_type": "code",
   "execution_count": null,
   "id": "189e67fc",
   "metadata": {},
   "outputs": [],
   "source": [
    "import geopandas as gpd"
   ]
  },
  {
   "cell_type": "code",
   "execution_count": null,
   "id": "58f5e798",
   "metadata": {},
   "outputs": [],
   "source": [
    "amazon_schools = gpd.read_file(\"inputs/new_schools/escuelas_amazonia.geojson\")"
   ]
  },
  {
   "cell_type": "code",
   "execution_count": null,
   "id": "541d69c9",
   "metadata": {},
   "outputs": [],
   "source": [
    "amazon_schools.crs"
   ]
  },
  {
   "cell_type": "code",
   "execution_count": null,
   "id": "c4215810",
   "metadata": {},
   "outputs": [],
   "source": [
    "amazon_schools.head()"
   ]
  },
  {
   "cell_type": "code",
   "execution_count": null,
   "id": "ca9737da",
   "metadata": {},
   "outputs": [],
   "source": [
    "amazon_schools[\"country_code\"] = amazon_schools[\"id_edificio\"].str[:3]"
   ]
  },
  {
   "cell_type": "code",
   "execution_count": null,
   "id": "2b61845d",
   "metadata": {},
   "outputs": [],
   "source": [
    "amazon_schools[\"country_code\"].value_counts()"
   ]
  },
  {
   "cell_type": "code",
   "execution_count": null,
   "id": "79b3e75c",
   "metadata": {},
   "outputs": [],
   "source": [
    "amazon_schools.to_parquet(\n",
    "    \"outputs/amazon_schools.parquet\",\n",
    "    index=False,\n",
    ")"
   ]
  },
  {
   "cell_type": "code",
   "execution_count": null,
   "id": "6af44760",
   "metadata": {},
   "outputs": [],
   "source": []
  }
 ],
 "metadata": {
  "kernelspec": {
   "display_name": "bid-amazonia-pop-centers",
   "language": "python",
   "name": "python3"
  },
  "language_info": {
   "codemirror_mode": {
    "name": "ipython",
    "version": 3
   },
   "file_extension": ".py",
   "mimetype": "text/x-python",
   "name": "python",
   "nbconvert_exporter": "python",
   "pygments_lexer": "ipython3",
   "version": "3.12.10"
  }
 },
 "nbformat": 4,
 "nbformat_minor": 5
}
